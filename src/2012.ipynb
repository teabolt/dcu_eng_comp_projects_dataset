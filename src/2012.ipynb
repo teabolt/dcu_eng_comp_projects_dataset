{
 "cells": [
  {
   "cell_type": "code",
   "execution_count": 1,
   "metadata": {},
   "outputs": [],
   "source": [
    "%load_ext autoreload\n",
    "%autoreload 2"
   ]
  },
  {
   "cell_type": "code",
   "execution_count": 2,
   "metadata": {},
   "outputs": [],
   "source": [
    "import re\n",
    "\n",
    "import projects_parser"
   ]
  },
  {
   "cell_type": "code",
   "execution_count": 3,
   "metadata": {},
   "outputs": [],
   "source": [
    "BOOKLET_FILE = \"../booklets_text/2012.txt\""
   ]
  },
  {
   "cell_type": "code",
   "execution_count": 4,
   "metadata": {},
   "outputs": [],
   "source": [
    "with open(BOOKLET_FILE, encoding=\"utf-8\") as f:\n",
    "    raw_lines = f.readlines()"
   ]
  },
  {
   "cell_type": "code",
   "execution_count": 5,
   "metadata": {},
   "outputs": [
    {
     "name": "stdout",
     "output_type": "stream",
     "text": [
      "['Project Title: Manufacture and Calibration of Line Scales for Quality Control\\n', 'Name: Eoghan McManus\\n', 'Email: eoghan.mcmanus5@mail.dcu.ie\\n', 'Programme: Mechatronic Engineering\\n', 'Supervisor: Dr. Dermot Brabazon\\n', 'In the field of engineering, there is a constant need for higher standards of quality. In measurement,\\n', 'accuracy and precision must continuously improve to provide these higher standards for various\\n', 'applications.\\n', 'This project aimed to manufacture line scales with micro-meter accuracy, using a laser. Line scales are\\n', 'blocks of material, usually glass, which are marked with lines at set intervals. Line scales are primarily\\n', 'used for the calibration of optical devices. Calibrated optical devices are used for quality control; in\\n', 'industries such as biomedical devices, ICT chips and foodstuffs. A laser system, which was originally\\n', 'built for the manufacture of microfluidics, was used to manufacture the line scales. The laser is an\\n', 'Nd:YAG 1064nm laser with a maximum output power of 3.2 Watt. The materials tested in the\\n', 'experiments were Polycarbonate (PC), Polymethyl Methacrylate (PMMA) and Glass slides (Soda-Lime).\\n', 'A full characterisation and analysis of the laser was carried out prior to manufacture. This allowed for a\\n', 'full understanding of the capabilities of the system as well as indicating parameters for processing. The\\n', 'optical alignment of the setup, with periscope and galvanometer, was investigated and optimised for\\n', 'minimum spot size and correct system alignment. The smallest possible spot size allowed for the\\n', 'highest processing accuracy and minimal Heat Affected Zone (HAZ).\\n']\n",
      "1965\n"
     ]
    }
   ],
   "source": [
    "print(raw_lines[0:20])\n",
    "print(len(raw_lines))"
   ]
  },
  {
   "cell_type": "code",
   "execution_count": 6,
   "metadata": {},
   "outputs": [],
   "source": [
    "# get rid of project numbering\n",
    "filter_pattern = re.compile(r'^Project Number', re.M)\n",
    "lines_filtered = list(filter(lambda line: not filter_pattern.match(line), raw_lines))"
   ]
  },
  {
   "cell_type": "code",
   "execution_count": 7,
   "metadata": {},
   "outputs": [
    {
     "name": "stdout",
     "output_type": "stream",
     "text": [
      "['Project Title: Manufacture and Calibration of Line Scales for Quality Control\\n', 'Name: Eoghan McManus\\n', 'Email: eoghan.mcmanus5@mail.dcu.ie\\n', 'Programme: Mechatronic Engineering\\n', 'Supervisor: Dr. Dermot Brabazon\\n', 'In the field of engineering, there is a constant need for higher standards of quality. In measurement,\\n', 'accuracy and precision must continuously improve to provide these higher standards for various\\n', 'applications.\\n', 'This project aimed to manufacture line scales with micro-meter accuracy, using a laser. Line scales are\\n', 'blocks of material, usually glass, which are marked with lines at set intervals. Line scales are primarily\\n', 'used for the calibration of optical devices. Calibrated optical devices are used for quality control; in\\n', 'industries such as biomedical devices, ICT chips and foodstuffs. A laser system, which was originally\\n', 'built for the manufacture of microfluidics, was used to manufacture the line scales. The laser is an\\n', 'Nd:YAG 1064nm laser with a maximum output power of 3.2 Watt. The materials tested in the\\n', 'experiments were Polycarbonate (PC), Polymethyl Methacrylate (PMMA) and Glass slides (Soda-Lime).\\n', 'A full characterisation and analysis of the laser was carried out prior to manufacture. This allowed for a\\n', 'full understanding of the capabilities of the system as well as indicating parameters for processing. The\\n', 'optical alignment of the setup, with periscope and galvanometer, was investigated and optimised for\\n', 'minimum spot size and correct system alignment. The smallest possible spot size allowed for the\\n', 'highest processing accuracy and minimal Heat Affected Zone (HAZ).\\n', 'A selection of materials was used in the experiments to analyse which material best suits the\\n', 'capability, of the 1064nm wavelength and power output, of the Nd:YAG laser system. Dimensions were\\n', 'measured in NSAI to assess, the accuracy and precision of, the laser system for line scale production\\n', 'feasibility.\\n', 'Primary Area: Quality Standards\\n', 'Secondary Area: Statistial Analysis\\n', 'Primary OS:\\n', 'Primary Technology: Nd:YAG 3.2W Laser\\n', 'Secondary Technology: NSAI Metrology\\n', 'Project Title: 3D Shooter A.I. World\\n']\n",
      "1965\n"
     ]
    }
   ],
   "source": [
    "print(lines_filtered[0:30])\n",
    "print(len(lines_filtered))"
   ]
  },
  {
   "cell_type": "code",
   "execution_count": 8,
   "metadata": {},
   "outputs": [],
   "source": [
    "# Transform certain characters\n",
    "\n",
    "lines = [projects_parser.normalize_characters(line) for line in lines_filtered]"
   ]
  },
  {
   "cell_type": "code",
   "execution_count": 9,
   "metadata": {},
   "outputs": [
    {
     "name": "stdout",
     "output_type": "stream",
     "text": [
      "['Project Title: Manufacture and Calibration of Line Scales for Quality Control\\n', 'Name: Eoghan McManus\\n', 'Email: eoghan.mcmanus5@mail.dcu.ie\\n', 'Programme: Mechatronic Engineering\\n', 'Supervisor: Dr. Dermot Brabazon\\n', 'In the field of engineering, there is a constant need for higher standards of quality. In measurement,\\n', 'accuracy and precision must continuously improve to provide these higher standards for various\\n', 'applications.\\n', 'This project aimed to manufacture line scales with micro-meter accuracy, using a laser. Line scales are\\n', 'blocks of material, usually glass, which are marked with lines at set intervals. Line scales are primarily\\n', 'used for the calibration of optical devices. Calibrated optical devices are used for quality control; in\\n', 'industries such as biomedical devices, ICT chips and foodstuffs. A laser system, which was originally\\n', 'built for the manufacture of microfluidics, was used to manufacture the line scales. The laser is an\\n', 'Nd:YAG 1064nm laser with a maximum output power of 3.2 Watt. The materials tested in the\\n', 'experiments were Polycarbonate (PC), Polymethyl Methacrylate (PMMA) and Glass slides (Soda-Lime).\\n', 'A full characterisation and analysis of the laser was carried out prior to manufacture. This allowed for a\\n', 'full understanding of the capabilities of the system as well as indicating parameters for processing. The\\n', 'optical alignment of the setup, with periscope and galvanometer, was investigated and optimised for\\n', 'minimum spot size and correct system alignment. The smallest possible spot size allowed for the\\n', 'highest processing accuracy and minimal Heat Affected Zone (HAZ).\\n', 'A selection of materials was used in the experiments to analyse which material best suits the\\n', 'capability, of the 1064nm wavelength and power output, of the Nd:YAG laser system. Dimensions were\\n', 'measured in NSAI to assess, the accuracy and precision of, the laser system for line scale production\\n', 'feasibility.\\n', 'Primary Area: Quality Standards\\n', 'Secondary Area: Statistial Analysis\\n', 'Primary OS:\\n', 'Primary Technology: Nd:YAG 3.2W Laser\\n', 'Secondary Technology: NSAI Metrology\\n', 'Project Title: 3D Shooter A.I. World\\n']\n",
      "1965\n"
     ]
    }
   ],
   "source": [
    "print(lines[0:30])\n",
    "print(len(lines))"
   ]
  },
  {
   "cell_type": "code",
   "execution_count": 10,
   "metadata": {},
   "outputs": [],
   "source": [
    "# Separate lines into list of projects\n",
    "\n",
    "projects_strings = projects_parser.lines_to_projects(lines)"
   ]
  },
  {
   "cell_type": "code",
   "execution_count": 11,
   "metadata": {
    "scrolled": true
   },
   "outputs": [
    {
     "name": "stdout",
     "output_type": "stream",
     "text": [
      "['Project Title: Manufacture and Calibration of Line Scales for Quality Control\\nName: Eoghan McManus\\nEmail: eoghan.mcmanus5@mail.dcu.ie\\nProgramme: Mechatronic Engineering\\nSupervisor: Dr. Dermot Brabazon\\nIn the field of engineering, there is a constant need for higher standards of quality. In measurement,\\naccuracy and precision must continuously improve to provide these higher standards for various\\napplications.\\nThis project aimed to manufacture line scales with micro-meter accuracy, using a laser. Line scales are\\nblocks of material, usually glass, which are marked with lines at set intervals. Line scales are primarily\\nused for the calibration of optical devices. Calibrated optical devices are used for quality control; in\\nindustries such as biomedical devices, ICT chips and foodstuffs. A laser system, which was originally\\nbuilt for the manufacture of microfluidics, was used to manufacture the line scales. The laser is an\\nNd:YAG 1064nm laser with a maximum output power of 3.2 Watt. The materials tested in the\\nexperiments were Polycarbonate (PC), Polymethyl Methacrylate (PMMA) and Glass slides (Soda-Lime).\\nA full characterisation and analysis of the laser was carried out prior to manufacture. This allowed for a\\nfull understanding of the capabilities of the system as well as indicating parameters for processing. The\\noptical alignment of the setup, with periscope and galvanometer, was investigated and optimised for\\nminimum spot size and correct system alignment. The smallest possible spot size allowed for the\\nhighest processing accuracy and minimal Heat Affected Zone (HAZ).\\nA selection of materials was used in the experiments to analyse which material best suits the\\ncapability, of the 1064nm wavelength and power output, of the Nd:YAG laser system. Dimensions were\\nmeasured in NSAI to assess, the accuracy and precision of, the laser system for line scale production\\nfeasibility.\\nPrimary Area: Quality Standards\\nSecondary Area: Statistial Analysis\\nPrimary OS:\\nPrimary Technology: Nd:YAG 3.2W Laser\\nSecondary Technology: NSAI Metrology\\n', \"Project Title: 3D Shooter A.I. World\\nName: Oisin St John Kelly\\nEmail: st.oisinkelly2@mail.dcu.ie\\nProgramme: Software Engineering\\nSupervisor: Dr. Mark Humphrys\\nThis project is designed to give the users 3D represented system where they can learn to create A.I\\nprograms to progress through the world for the highest score. The system itself is made into the\\nlikeness of a video game with the visual output in first person. This project is aimed to give users a\\nmore interesting and fun way of learning to make A.I programs. The program & 3D engine is built into\\nthe World Wide Mind server (http://w2mind.computing.dcu.ie) where users can create their own A.I\\nprograms or 'minds' and plug them into the project system or 'world'.\\nTo use the system users can download a basic mind for the world and following a simple tutorial can\\nbegin creating the mind to take actions in the world. Once the minds complete they can run it offline to\\ncheck how it performs by downloading the world and running it with a mind program. It'll output the\\nscore it obtains and images of each action that their mind took. It also compiles a video of the minds\\nrun though the game.If they're happy with their mind they can then put it online where it can be run\\nand its score marked on a scoreboard amongst other minds on the server.\\nPrimary Area: Artificial Intelligence\\nSecondary Area: Graphics\\nPrimary OS: Windows\\nPrimary Technology: Java\\nSecondary Technology:\\n\", \"Project Title: Wifi Enabled Energy Monitoring and Control in the Home\\nName: Eoin Muldowney\\nEmail: eoin.muldowney2@mail.dcu.ie\\nProgramme: Electronic Engineering\\nSupervisor: Prof. Noel O'Connor\\nHome energy monitoring and subsequent reduction in energy usage has become an important area for\\nresearch here in Ireland. In the 12-month period starting October 2010 the price of electricity rose by 17%\\naccording to a study by Sustainable Energy Authority of Ireland. Clarity have been using sensing\\nplatforms in over 20 homes to collect data on their energy usage. The aim of this project was to provide\\na method to control the energy usage in the home using the smart actuation of electrical devices, thus\\nclosing the loop between the measuring and the control.\\nHome automation is one of the buzzwords of the technology sector at the moment. There are many\\ndemonstrations of the advantages of this technology to be seen from a simple Google search. By using\\nthe wifi network already established in the home much of the extra infrastructure can be eliminated.\\nThe project uses a wifi connected Arduino with a switching circuit to control the power, combined with\\na Dreamplug computer to perform the decision on when to actuate. By using these low cost, low power\\ndevices the project aims to ensure that actuation element required in smart energy control can be\\ncheap, and thus become profitable to the user in the long run. By smartly switching electrical devices so\\nas to reduce waste and residual power the system can reduce the energy bill for the end user.\\nMy contribution to the project was to design and build the hardware required to actuate mains voltage\\npower, and interface it with a prototype wifi connected Arduino. The signal for the control of the device\\nis provided over the wifi network from the Dreamplug computer. The project was then extended to\\nprovide an example of the smart actuation that can be done with the system. The system can sense\\nyour arrival at home by means of your smartphone and actuate some predetermined action, such as\\nturning on lights. Potentially this system can then be expanded to provide much more complex\\ndecision- making or to design artificial intelligence systems that could provide the whole home\\nautomation experience, while also reducing your carbon footprint.\\nPrimary Area: Home Automation\\nSecondary Area: Energy Consumption Reduction\\nPrimary OS: Unix/Linux\\nPrimary Technology: Arduino\\nSecondary Technology: Java, Pspice, Python\\n\"]\n",
      "82\n"
     ]
    }
   ],
   "source": [
    "print(projects_strings[0:3])\n",
    "print(len(projects_strings))"
   ]
  },
  {
   "cell_type": "code",
   "execution_count": 12,
   "metadata": {},
   "outputs": [],
   "source": [
    "regex_schema = {\n",
    "    'title': r'Project Title:(.*?)Name',\n",
    "    'students': r'Name:(.*?)Programme',\n",
    "    'programme': r'Programme:(.*)Supervisor',\n",
    "    'supervisor_and_description': r'Supervisor:(.*?)(?:Primary Area:|Secondary Area:|Primary OS:|Primary Technology:|Secondary Technology:|$)',\n",
    "    'primary_area': r'Primary Area:(.*?)(?:Secondary Area:|Primary OS:|Primary Technology:|Secondary Technology:|$)',\n",
    "    'secondary_area': r'Secondary Area:(.*?)(?:Primary OS:|Primary Technology:|Secondary Technology:|$)',\n",
    "    'primary_os': r'Primary OS:(.*?)(?:Primary Technology:|Secondary Technology:|$)',\n",
    "    'primary_tech': r'Primary Technology:(.*?)(?:Secondary Technology|$)',\n",
    "    'secondary_tech': r'Secondary Technology:(.*?)$',\n",
    "}"
   ]
  },
  {
   "cell_type": "code",
   "execution_count": 13,
   "metadata": {},
   "outputs": [],
   "source": [
    "projects = projects_parser.parse_projects(projects_strings, regex_schema)"
   ]
  },
  {
   "cell_type": "code",
   "execution_count": 14,
   "metadata": {
    "scrolled": true
   },
   "outputs": [
    {
     "name": "stdout",
     "output_type": "stream",
     "text": [
      "[{'title': ' Manufacture and Calibration of Line Scales for Quality Control\\n', 'students': ' Eoghan McManus\\nEmail: eoghan.mcmanus5@mail.dcu.ie\\n', 'programme': ' Mechatronic Engineering\\n', 'supervisor_and_description': ' Dr. Dermot Brabazon\\nIn the field of engineering, there is a constant need for higher standards of quality. In measurement,\\naccuracy and precision must continuously improve to provide these higher standards for various\\napplications.\\nThis project aimed to manufacture line scales with micro-meter accuracy, using a laser. Line scales are\\nblocks of material, usually glass, which are marked with lines at set intervals. Line scales are primarily\\nused for the calibration of optical devices. Calibrated optical devices are used for quality control; in\\nindustries such as biomedical devices, ICT chips and foodstuffs. A laser system, which was originally\\nbuilt for the manufacture of microfluidics, was used to manufacture the line scales. The laser is an\\nNd:YAG 1064nm laser with a maximum output power of 3.2 Watt. The materials tested in the\\nexperiments were Polycarbonate (PC), Polymethyl Methacrylate (PMMA) and Glass slides (Soda-Lime).\\nA full characterisation and analysis of the laser was carried out prior to manufacture. This allowed for a\\nfull understanding of the capabilities of the system as well as indicating parameters for processing. The\\noptical alignment of the setup, with periscope and galvanometer, was investigated and optimised for\\nminimum spot size and correct system alignment. The smallest possible spot size allowed for the\\nhighest processing accuracy and minimal Heat Affected Zone (HAZ).\\nA selection of materials was used in the experiments to analyse which material best suits the\\ncapability, of the 1064nm wavelength and power output, of the Nd:YAG laser system. Dimensions were\\nmeasured in NSAI to assess, the accuracy and precision of, the laser system for line scale production\\nfeasibility.\\n', 'primary_area': ' Quality Standards\\n', 'secondary_area': ' Statistial Analysis\\n', 'primary_os': '\\n', 'primary_tech': ' Nd:YAG 3.2W Laser\\n', 'secondary_tech': ' NSAI Metrology'}, {'title': ' 3D Shooter A.I. World\\n', 'students': ' Oisin St John Kelly\\nEmail: st.oisinkelly2@mail.dcu.ie\\n', 'programme': ' Software Engineering\\n', 'supervisor_and_description': \" Dr. Mark Humphrys\\nThis project is designed to give the users 3D represented system where they can learn to create A.I\\nprograms to progress through the world for the highest score. The system itself is made into the\\nlikeness of a video game with the visual output in first person. This project is aimed to give users a\\nmore interesting and fun way of learning to make A.I programs. The program & 3D engine is built into\\nthe World Wide Mind server (http://w2mind.computing.dcu.ie) where users can create their own A.I\\nprograms or 'minds' and plug them into the project system or 'world'.\\nTo use the system users can download a basic mind for the world and following a simple tutorial can\\nbegin creating the mind to take actions in the world. Once the minds complete they can run it offline to\\ncheck how it performs by downloading the world and running it with a mind program. It'll output the\\nscore it obtains and images of each action that their mind took. It also compiles a video of the minds\\nrun though the game.If they're happy with their mind they can then put it online where it can be run\\nand its score marked on a scoreboard amongst other minds on the server.\\n\", 'primary_area': ' Artificial Intelligence\\n', 'secondary_area': ' Graphics\\n', 'primary_os': ' Windows\\n', 'primary_tech': ' Java\\n', 'secondary_tech': ''}, {'title': ' Wifi Enabled Energy Monitoring and Control in the Home\\n', 'students': ' Eoin Muldowney\\nEmail: eoin.muldowney2@mail.dcu.ie\\n', 'programme': ' Electronic Engineering\\n', 'supervisor_and_description': \" Prof. Noel O'Connor\\nHome energy monitoring and subsequent reduction in energy usage has become an important area for\\nresearch here in Ireland. In the 12-month period starting October 2010 the price of electricity rose by 17%\\naccording to a study by Sustainable Energy Authority of Ireland. Clarity have been using sensing\\nplatforms in over 20 homes to collect data on their energy usage. The aim of this project was to provide\\na method to control the energy usage in the home using the smart actuation of electrical devices, thus\\nclosing the loop between the measuring and the control.\\nHome automation is one of the buzzwords of the technology sector at the moment. There are many\\ndemonstrations of the advantages of this technology to be seen from a simple Google search. By using\\nthe wifi network already established in the home much of the extra infrastructure can be eliminated.\\nThe project uses a wifi connected Arduino with a switching circuit to control the power, combined with\\na Dreamplug computer to perform the decision on when to actuate. By using these low cost, low power\\ndevices the project aims to ensure that actuation element required in smart energy control can be\\ncheap, and thus become profitable to the user in the long run. By smartly switching electrical devices so\\nas to reduce waste and residual power the system can reduce the energy bill for the end user.\\nMy contribution to the project was to design and build the hardware required to actuate mains voltage\\npower, and interface it with a prototype wifi connected Arduino. The signal for the control of the device\\nis provided over the wifi network from the Dreamplug computer. The project was then extended to\\nprovide an example of the smart actuation that can be done with the system. The system can sense\\nyour arrival at home by means of your smartphone and actuate some predetermined action, such as\\nturning on lights. Potentially this system can then be expanded to provide much more complex\\ndecision- making or to design artificial intelligence systems that could provide the whole home\\nautomation experience, while also reducing your carbon footprint.\\n\", 'primary_area': ' Home Automation\\n', 'secondary_area': ' Energy Consumption Reduction\\n', 'primary_os': ' Unix/Linux\\n', 'primary_tech': ' Arduino\\n', 'secondary_tech': ' Java, Pspice, Python'}]\n"
     ]
    }
   ],
   "source": [
    "print(projects[0:3])"
   ]
  },
  {
   "cell_type": "code",
   "execution_count": 15,
   "metadata": {},
   "outputs": [],
   "source": [
    "projects_final = projects_parser.canonicalize_projects(projects, name_sep='Name:', email_sep='Email:')"
   ]
  },
  {
   "cell_type": "code",
   "execution_count": 16,
   "metadata": {},
   "outputs": [
    {
     "data": {
      "text/plain": [
       "[{'title': 'Manufacture and Calibration of Line Scales for Quality Control',\n",
       "  'students': [{'name': 'Eoghan McManus',\n",
       "    'email': 'eoghan.mcmanus5@mail.dcu.ie'}],\n",
       "  'programme': 'Mechatronic Engineering',\n",
       "  'primary_area': 'Quality Standards',\n",
       "  'secondary_area': 'Statistial Analysis',\n",
       "  'primary_os': '',\n",
       "  'primary_tech': 'Nd:YAG 3.2W Laser',\n",
       "  'secondary_tech': 'NSAI Metrology',\n",
       "  'supervisor': 'Dr. Dermot Brabazon',\n",
       "  'description': 'In the field of engineering, there is a constant need for higher standards of quality. In measurement, accuracy and precision must continuously improve to provide these higher standards for various applications. This project aimed to manufacture line scales with micro-meter accuracy, using a laser. Line scales are blocks of material, usually glass, which are marked with lines at set intervals. Line scales are primarily used for the calibration of optical devices. Calibrated optical devices are used for quality control; in industries such as biomedical devices, ICT chips and foodstuffs. A laser system, which was originally built for the manufacture of microfluidics, was used to manufacture the line scales. The laser is an Nd:YAG 1064nm laser with a maximum output power of 3.2 Watt. The materials tested in the experiments were Polycarbonate (PC), Polymethyl Methacrylate (PMMA) and Glass slides (Soda-Lime). A full characterisation and analysis of the laser was carried out prior to manufacture. This allowed for a full understanding of the capabilities of the system as well as indicating parameters for processing. The optical alignment of the setup, with periscope and galvanometer, was investigated and optimised for minimum spot size and correct system alignment. The smallest possible spot size allowed for the highest processing accuracy and minimal Heat Affected Zone (HAZ). A selection of materials was used in the experiments to analyse which material best suits the capability, of the 1064nm wavelength and power output, of the Nd:YAG laser system. Dimensions were measured in NSAI to assess, the accuracy and precision of, the laser system for line scale production feasibility.'},\n",
       " {'title': '3D Shooter A.I. World',\n",
       "  'students': [{'name': 'Oisin St John Kelly',\n",
       "    'email': 'st.oisinkelly2@mail.dcu.ie'}],\n",
       "  'programme': 'Software Engineering',\n",
       "  'primary_area': 'Artificial Intelligence',\n",
       "  'secondary_area': 'Graphics',\n",
       "  'primary_os': 'Windows',\n",
       "  'primary_tech': 'Java',\n",
       "  'secondary_tech': '',\n",
       "  'supervisor': 'Dr. Mark Humphrys',\n",
       "  'description': \"This project is designed to give the users 3D represented system where they can learn to create A.I programs to progress through the world for the highest score. The system itself is made into the likeness of a video game with the visual output in first person. This project is aimed to give users a more interesting and fun way of learning to make A.I programs. The program & 3D engine is built into the World Wide Mind server (http://w2mind.computing.dcu.ie) where users can create their own A.I programs or 'minds' and plug them into the project system or 'world'. To use the system users can download a basic mind for the world and following a simple tutorial can begin creating the mind to take actions in the world. Once the minds complete they can run it offline to check how it performs by downloading the world and running it with a mind program. It'll output the score it obtains and images of each action that their mind took. It also compiles a video of the minds run though the game.If they're happy with their mind they can then put it online where it can be run and its score marked on a scoreboard amongst other minds on the server.\"},\n",
       " {'title': 'Wifi Enabled Energy Monitoring and Control in the Home',\n",
       "  'students': [{'name': 'Eoin Muldowney',\n",
       "    'email': 'eoin.muldowney2@mail.dcu.ie'}],\n",
       "  'programme': 'Electronic Engineering',\n",
       "  'primary_area': 'Home Automation',\n",
       "  'secondary_area': 'Energy Consumption Reduction',\n",
       "  'primary_os': 'Unix/Linux',\n",
       "  'primary_tech': 'Arduino',\n",
       "  'secondary_tech': 'Java, Pspice, Python',\n",
       "  'supervisor': \"Prof. Noel O'Connor\",\n",
       "  'description': 'Home energy monitoring and subsequent reduction in energy usage has become an important area for research here in Ireland. In the 12-month period starting October 2010 the price of electricity rose by 17% according to a study by Sustainable Energy Authority of Ireland. Clarity have been using sensing platforms in over 20 homes to collect data on their energy usage. The aim of this project was to provide a method to control the energy usage in the home using the smart actuation of electrical devices, thus closing the loop between the measuring and the control. Home automation is one of the buzzwords of the technology sector at the moment. There are many demonstrations of the advantages of this technology to be seen from a simple Google search. By using the wifi network already established in the home much of the extra infrastructure can be eliminated. The project uses a wifi connected Arduino with a switching circuit to control the power, combined with a Dreamplug computer to perform the decision on when to actuate. By using these low cost, low power devices the project aims to ensure that actuation element required in smart energy control can be cheap, and thus become profitable to the user in the long run. By smartly switching electrical devices so as to reduce waste and residual power the system can reduce the energy bill for the end user. My contribution to the project was to design and build the hardware required to actuate mains voltage power, and interface it with a prototype wifi connected Arduino. The signal for the control of the device is provided over the wifi network from the Dreamplug computer. The project was then extended to provide an example of the smart actuation that can be done with the system. The system can sense your arrival at home by means of your smartphone and actuate some predetermined action, such as turning on lights. Potentially this system can then be expanded to provide much more complex decision- making or to design artificial intelligence systems that could provide the whole home automation experience, while also reducing your carbon footprint.'}]"
      ]
     },
     "execution_count": 16,
     "metadata": {},
     "output_type": "execute_result"
    }
   ],
   "source": [
    "projects_final[0:3]"
   ]
  },
  {
   "cell_type": "code",
   "execution_count": 17,
   "metadata": {},
   "outputs": [
    {
     "data": {
      "text/plain": [
       "82"
      ]
     },
     "execution_count": 17,
     "metadata": {},
     "output_type": "execute_result"
    }
   ],
   "source": [
    "len(projects_final)"
   ]
  },
  {
   "cell_type": "code",
   "execution_count": 18,
   "metadata": {},
   "outputs": [],
   "source": [
    "projects_area_combined = projects_parser.apply_transformation(projects_final, \n",
    "    projects_parser.combine_fields,\n",
    "    'area',\n",
    "    'primary_area', \n",
    "    'secondary_area')\n",
    "projects_tech_combined = projects_parser.apply_transformation(projects_area_combined,\n",
    "    projects_parser.combine_fields,\n",
    "    'technology',\n",
    "    'primary_tech',\n",
    "    'secondary_tech')\n",
    "projects_platform = projects_parser.apply_transformation(\n",
    "    projects_tech_combined,\n",
    "    projects_parser.rename_field,\n",
    "    'platform',\n",
    "    'primary_os')"
   ]
  },
  {
   "cell_type": "code",
   "execution_count": 19,
   "metadata": {},
   "outputs": [
    {
     "name": "stdout",
     "output_type": "stream",
     "text": [
      "{'title': 'Manufacture and Calibration of Line Scales for Quality Control', 'students': [{'name': 'Eoghan McManus', 'email': 'eoghan.mcmanus5@mail.dcu.ie'}], 'programme': 'Mechatronic Engineering', 'primary_os': '', 'primary_tech': 'Nd:YAG 3.2W Laser', 'secondary_tech': 'NSAI Metrology', 'supervisor': 'Dr. Dermot Brabazon', 'description': 'In the field of engineering, there is a constant need for higher standards of quality. In measurement, accuracy and precision must continuously improve to provide these higher standards for various applications. This project aimed to manufacture line scales with micro-meter accuracy, using a laser. Line scales are blocks of material, usually glass, which are marked with lines at set intervals. Line scales are primarily used for the calibration of optical devices. Calibrated optical devices are used for quality control; in industries such as biomedical devices, ICT chips and foodstuffs. A laser system, which was originally built for the manufacture of microfluidics, was used to manufacture the line scales. The laser is an Nd:YAG 1064nm laser with a maximum output power of 3.2 Watt. The materials tested in the experiments were Polycarbonate (PC), Polymethyl Methacrylate (PMMA) and Glass slides (Soda-Lime). A full characterisation and analysis of the laser was carried out prior to manufacture. This allowed for a full understanding of the capabilities of the system as well as indicating parameters for processing. The optical alignment of the setup, with periscope and galvanometer, was investigated and optimised for minimum spot size and correct system alignment. The smallest possible spot size allowed for the highest processing accuracy and minimal Heat Affected Zone (HAZ). A selection of materials was used in the experiments to analyse which material best suits the capability, of the 1064nm wavelength and power output, of the Nd:YAG laser system. Dimensions were measured in NSAI to assess, the accuracy and precision of, the laser system for line scale production feasibility.', 'area': 'Quality Standards, Statistial Analysis'}\n",
      "{'title': 'Manufacture and Calibration of Line Scales for Quality Control', 'students': [{'name': 'Eoghan McManus', 'email': 'eoghan.mcmanus5@mail.dcu.ie'}], 'programme': 'Mechatronic Engineering', 'primary_os': '', 'supervisor': 'Dr. Dermot Brabazon', 'description': 'In the field of engineering, there is a constant need for higher standards of quality. In measurement, accuracy and precision must continuously improve to provide these higher standards for various applications. This project aimed to manufacture line scales with micro-meter accuracy, using a laser. Line scales are blocks of material, usually glass, which are marked with lines at set intervals. Line scales are primarily used for the calibration of optical devices. Calibrated optical devices are used for quality control; in industries such as biomedical devices, ICT chips and foodstuffs. A laser system, which was originally built for the manufacture of microfluidics, was used to manufacture the line scales. The laser is an Nd:YAG 1064nm laser with a maximum output power of 3.2 Watt. The materials tested in the experiments were Polycarbonate (PC), Polymethyl Methacrylate (PMMA) and Glass slides (Soda-Lime). A full characterisation and analysis of the laser was carried out prior to manufacture. This allowed for a full understanding of the capabilities of the system as well as indicating parameters for processing. The optical alignment of the setup, with periscope and galvanometer, was investigated and optimised for minimum spot size and correct system alignment. The smallest possible spot size allowed for the highest processing accuracy and minimal Heat Affected Zone (HAZ). A selection of materials was used in the experiments to analyse which material best suits the capability, of the 1064nm wavelength and power output, of the Nd:YAG laser system. Dimensions were measured in NSAI to assess, the accuracy and precision of, the laser system for line scale production feasibility.', 'area': 'Quality Standards, Statistial Analysis', 'technology': 'Nd:YAG 3.2W Laser, NSAI Metrology'}\n",
      "{'title': 'Manufacture and Calibration of Line Scales for Quality Control', 'students': [{'name': 'Eoghan McManus', 'email': 'eoghan.mcmanus5@mail.dcu.ie'}], 'programme': 'Mechatronic Engineering', 'supervisor': 'Dr. Dermot Brabazon', 'description': 'In the field of engineering, there is a constant need for higher standards of quality. In measurement, accuracy and precision must continuously improve to provide these higher standards for various applications. This project aimed to manufacture line scales with micro-meter accuracy, using a laser. Line scales are blocks of material, usually glass, which are marked with lines at set intervals. Line scales are primarily used for the calibration of optical devices. Calibrated optical devices are used for quality control; in industries such as biomedical devices, ICT chips and foodstuffs. A laser system, which was originally built for the manufacture of microfluidics, was used to manufacture the line scales. The laser is an Nd:YAG 1064nm laser with a maximum output power of 3.2 Watt. The materials tested in the experiments were Polycarbonate (PC), Polymethyl Methacrylate (PMMA) and Glass slides (Soda-Lime). A full characterisation and analysis of the laser was carried out prior to manufacture. This allowed for a full understanding of the capabilities of the system as well as indicating parameters for processing. The optical alignment of the setup, with periscope and galvanometer, was investigated and optimised for minimum spot size and correct system alignment. The smallest possible spot size allowed for the highest processing accuracy and minimal Heat Affected Zone (HAZ). A selection of materials was used in the experiments to analyse which material best suits the capability, of the 1064nm wavelength and power output, of the Nd:YAG laser system. Dimensions were measured in NSAI to assess, the accuracy and precision of, the laser system for line scale production feasibility.', 'area': 'Quality Standards, Statistial Analysis', 'technology': 'Nd:YAG 3.2W Laser, NSAI Metrology', 'platform': ''}\n"
     ]
    }
   ],
   "source": [
    "print(projects_area_combined[0])\n",
    "print(projects_tech_combined[0])\n",
    "print(projects_platform[0])"
   ]
  },
  {
   "cell_type": "code",
   "execution_count": 20,
   "metadata": {},
   "outputs": [
    {
     "name": "stdout",
     "output_type": "stream",
     "text": [
      "[{'title': 'Manufacture and Calibration of Line Scales for Quality Control', 'students': [{'name': 'Eoghan McManus', 'email': 'eoghan.mcmanus5@mail.dcu.ie'}], 'programme': 'Mechatronic Engineering', 'supervisor': 'Dr. Dermot Brabazon', 'description': 'In the field of engineering, there is a constant need for higher standards of quality. In measurement, accuracy and precision must continuously improve to provide these higher standards for various applications. This project aimed to manufacture line scales with micro-meter accuracy, using a laser. Line scales are blocks of material, usually glass, which are marked with lines at set intervals. Line scales are primarily used for the calibration of optical devices. Calibrated optical devices are used for quality control; in industries such as biomedical devices, ICT chips and foodstuffs. A laser system, which was originally built for the manufacture of microfluidics, was used to manufacture the line scales. The laser is an Nd:YAG 1064nm laser with a maximum output power of 3.2 Watt. The materials tested in the experiments were Polycarbonate (PC), Polymethyl Methacrylate (PMMA) and Glass slides (Soda-Lime). A full characterisation and analysis of the laser was carried out prior to manufacture. This allowed for a full understanding of the capabilities of the system as well as indicating parameters for processing. The optical alignment of the setup, with periscope and galvanometer, was investigated and optimised for minimum spot size and correct system alignment. The smallest possible spot size allowed for the highest processing accuracy and minimal Heat Affected Zone (HAZ). A selection of materials was used in the experiments to analyse which material best suits the capability, of the 1064nm wavelength and power output, of the Nd:YAG laser system. Dimensions were measured in NSAI to assess, the accuracy and precision of, the laser system for line scale production feasibility.', 'area': 'Quality Standards, Statistial Analysis', 'technology': 'Nd:YAG 3.2W Laser, NSAI Metrology', 'platform': ''}, {'title': '3D Shooter A.I. World', 'students': [{'name': 'Oisin St John Kelly', 'email': 'st.oisinkelly2@mail.dcu.ie'}], 'programme': 'Software Engineering', 'supervisor': 'Dr. Mark Humphrys', 'description': \"This project is designed to give the users 3D represented system where they can learn to create A.I programs to progress through the world for the highest score. The system itself is made into the likeness of a video game with the visual output in first person. This project is aimed to give users a more interesting and fun way of learning to make A.I programs. The program & 3D engine is built into the World Wide Mind server (http://w2mind.computing.dcu.ie) where users can create their own A.I programs or 'minds' and plug them into the project system or 'world'. To use the system users can download a basic mind for the world and following a simple tutorial can begin creating the mind to take actions in the world. Once the minds complete they can run it offline to check how it performs by downloading the world and running it with a mind program. It'll output the score it obtains and images of each action that their mind took. It also compiles a video of the minds run though the game.If they're happy with their mind they can then put it online where it can be run and its score marked on a scoreboard amongst other minds on the server.\", 'area': 'Artificial Intelligence, Graphics', 'technology': 'Java', 'platform': 'Windows'}, {'title': 'Wifi Enabled Energy Monitoring and Control in the Home', 'students': [{'name': 'Eoin Muldowney', 'email': 'eoin.muldowney2@mail.dcu.ie'}], 'programme': 'Electronic Engineering', 'supervisor': \"Prof. Noel O'Connor\", 'description': 'Home energy monitoring and subsequent reduction in energy usage has become an important area for research here in Ireland. In the 12-month period starting October 2010 the price of electricity rose by 17% according to a study by Sustainable Energy Authority of Ireland. Clarity have been using sensing platforms in over 20 homes to collect data on their energy usage. The aim of this project was to provide a method to control the energy usage in the home using the smart actuation of electrical devices, thus closing the loop between the measuring and the control. Home automation is one of the buzzwords of the technology sector at the moment. There are many demonstrations of the advantages of this technology to be seen from a simple Google search. By using the wifi network already established in the home much of the extra infrastructure can be eliminated. The project uses a wifi connected Arduino with a switching circuit to control the power, combined with a Dreamplug computer to perform the decision on when to actuate. By using these low cost, low power devices the project aims to ensure that actuation element required in smart energy control can be cheap, and thus become profitable to the user in the long run. By smartly switching electrical devices so as to reduce waste and residual power the system can reduce the energy bill for the end user. My contribution to the project was to design and build the hardware required to actuate mains voltage power, and interface it with a prototype wifi connected Arduino. The signal for the control of the device is provided over the wifi network from the Dreamplug computer. The project was then extended to provide an example of the smart actuation that can be done with the system. The system can sense your arrival at home by means of your smartphone and actuate some predetermined action, such as turning on lights. Potentially this system can then be expanded to provide much more complex decision- making or to design artificial intelligence systems that could provide the whole home automation experience, while also reducing your carbon footprint.', 'area': 'Home Automation, Energy Consumption Reduction', 'technology': 'Arduino, Java, Pspice, Python', 'platform': 'Unix/Linux'}]\n",
      "82\n"
     ]
    }
   ],
   "source": [
    "print(projects_platform[:3])\n",
    "print(len(projects_platform))"
   ]
  },
  {
   "cell_type": "code",
   "execution_count": 21,
   "metadata": {},
   "outputs": [],
   "source": [
    "projects_parser.write_json('2012', projects_platform)"
   ]
  },
  {
   "cell_type": "code",
   "execution_count": null,
   "metadata": {},
   "outputs": [],
   "source": []
  }
 ],
 "metadata": {
  "kernelspec": {
   "display_name": "Python 3",
   "language": "python",
   "name": "python3"
  },
  "language_info": {
   "codemirror_mode": {
    "name": "ipython",
    "version": 3
   },
   "file_extension": ".py",
   "mimetype": "text/x-python",
   "name": "python",
   "nbconvert_exporter": "python",
   "pygments_lexer": "ipython3",
   "version": "3.8.2"
  }
 },
 "nbformat": 4,
 "nbformat_minor": 4
}
