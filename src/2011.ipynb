{
 "cells": [
  {
   "cell_type": "code",
   "execution_count": 19,
   "metadata": {},
   "outputs": [
    {
     "name": "stdout",
     "output_type": "stream",
     "text": [
      "The autoreload extension is already loaded. To reload it, use:\n",
      "  %reload_ext autoreload\n"
     ]
    }
   ],
   "source": [
    "%load_ext autoreload\n",
    "%autoreload 2"
   ]
  },
  {
   "cell_type": "code",
   "execution_count": 20,
   "metadata": {},
   "outputs": [],
   "source": [
    "import re\n",
    "\n",
    "import projects_parser"
   ]
  },
  {
   "cell_type": "code",
   "execution_count": 21,
   "metadata": {},
   "outputs": [],
   "source": [
    "BOOKLET_FILE = \"../booklets_text/2011.txt\""
   ]
  },
  {
   "cell_type": "code",
   "execution_count": 22,
   "metadata": {},
   "outputs": [],
   "source": [
    "with open(BOOKLET_FILE, encoding=\"utf-8\") as f:\n",
    "    lines = f.readlines()"
   ]
  },
  {
   "cell_type": "code",
   "execution_count": 23,
   "metadata": {},
   "outputs": [
    {
     "name": "stdout",
     "output_type": "stream",
     "text": [
      "['Project Title: TMT Project (Take Me There) - MultiModal National\\n', 'Public Transport Information System\\n', 'Name: Ovidiu Bernaschi\\n', 'Email: bernaso2@computing.dcu.ie\\n', 'Programme: Information Systems\\n', 'Supervisor: Dr. Martin Crane\\n', 'TMT Project aims to deliver a public Information System which would generate on request a national\\n', 'Multi-Modal Public Transport Travel Itinerary that will guide commuters from their point of origin to\\n', 'their desired destination within the Republic of Ireland.\\n', 'It aims to integrate as many Irish public transport companies as possible, then offer routing and access\\n', 'to this public IS from all web-compatible devices like smartphones, tabletPCs, laptops, desktops etc\\n', 'TMT Project received collaboration & support from: Department of Transport Ireland; Former Minister\\n', 'for Transport Mr Noel Dempsey TD; National Transport Authority; Transport 21 offi ce; Dublin Chamber\\n', 'of Commerce; Irish Rail, Eirebus/Urbus and Dublin Bikes; IBM Ireland; DCU.\\n', 'Presentation website: www.tmtproject.eu Blog and history tracking: www.tmtproject.info\\n', 'TMT Project web address: www.tmtproject.net\\n', 'Note: Due to the massive scale and complexity of TMT Project’s architecture, only a proof of concept\\n', 'will be demonstrated in the presentation.\\n', 'Primary Area: Web Application\\n', 'Secondary Area: Navigation Information Platform\\n']\n",
      "1589\n"
     ]
    }
   ],
   "source": [
    "print(lines[0:20])\n",
    "print(len(lines))"
   ]
  },
  {
   "cell_type": "code",
   "execution_count": 24,
   "metadata": {},
   "outputs": [],
   "source": [
    "# get rid of project numbering\n",
    "filter_pattern = re.compile(r'^Project Number', re.M)\n",
    "lines_filtered = list(filter(lambda line: not filter_pattern.match(line), lines))"
   ]
  },
  {
   "cell_type": "code",
   "execution_count": 25,
   "metadata": {},
   "outputs": [
    {
     "name": "stdout",
     "output_type": "stream",
     "text": [
      "['Project Title: TMT Project (Take Me There) - MultiModal National\\n', 'Public Transport Information System\\n', 'Name: Ovidiu Bernaschi\\n', 'Email: bernaso2@computing.dcu.ie\\n', 'Programme: Information Systems\\n', 'Supervisor: Dr. Martin Crane\\n', 'TMT Project aims to deliver a public Information System which would generate on request a national\\n', 'Multi-Modal Public Transport Travel Itinerary that will guide commuters from their point of origin to\\n', 'their desired destination within the Republic of Ireland.\\n', 'It aims to integrate as many Irish public transport companies as possible, then offer routing and access\\n', 'to this public IS from all web-compatible devices like smartphones, tabletPCs, laptops, desktops etc\\n', 'TMT Project received collaboration & support from: Department of Transport Ireland; Former Minister\\n', 'for Transport Mr Noel Dempsey TD; National Transport Authority; Transport 21 offi ce; Dublin Chamber\\n', 'of Commerce; Irish Rail, Eirebus/Urbus and Dublin Bikes; IBM Ireland; DCU.\\n', 'Presentation website: www.tmtproject.eu Blog and history tracking: www.tmtproject.info\\n', 'TMT Project web address: www.tmtproject.net\\n', 'Note: Due to the massive scale and complexity of TMT Project’s architecture, only a proof of concept\\n', 'will be demonstrated in the presentation.\\n', 'Primary Area: Web Application\\n', 'Secondary Area: Navigation Information Platform\\n', 'Primary OS: Multi-platform\\n', 'Primary Technology: Google Maps Javascript API V3\\n', 'Secondary Technology: Sencha Ext JS, MySQL, PHP\\n', 'Project Title: Making it Easy to Create Worlds for the World Wide Mind\\n', 'Name: John Pendlebury\\n', 'Email: john.pendlebury2@mail.dcu.ie\\n', 'Programme: Software Engineering\\n', 'Supervisor: Dr. Mark Humphries\\n', 'The ‘World-Wide-Mind’ is a project which enables the construction of large, collaborative, multi-author,\\n', '‘Society-of-Mind’ systems in Artifi cial Intelligence (AI). It can also be used as a generic platform on\\n']\n",
      "1589\n"
     ]
    }
   ],
   "source": [
    "print(lines_filtered[0:30])\n",
    "print(len(lines_filtered))"
   ]
  },
  {
   "cell_type": "code",
   "execution_count": 26,
   "metadata": {},
   "outputs": [
    {
     "name": "stdout",
     "output_type": "stream",
     "text": [
      "[0, 23, 47, 75, 99]\n"
     ]
    }
   ],
   "source": [
    "# Separate lines into list of projects\n",
    "\n",
    "project_title_indices = [i for i, line in enumerate(lines_filtered) if \"Project Title\" in line]\n",
    "print(project_title_indices[0:5])\n",
    "\n",
    "projects_strings = []\n",
    "i = 1\n",
    "while i < len(project_title_indices):\n",
    "    projects_strings.append(\"\".join(lines_filtered[project_title_indices[i-1]:project_title_indices[i]]))\n",
    "    i += 1\n",
    "projects_strings.append(\"\".join(lines_filtered[project_title_indices[-1]:]))"
   ]
  },
  {
   "cell_type": "code",
   "execution_count": 27,
   "metadata": {},
   "outputs": [
    {
     "name": "stdout",
     "output_type": "stream",
     "text": [
      "['Project Title: TMT Project (Take Me There) - MultiModal National\\nPublic Transport Information System\\nName: Ovidiu Bernaschi\\nEmail: bernaso2@computing.dcu.ie\\nProgramme: Information Systems\\nSupervisor: Dr. Martin Crane\\nTMT Project aims to deliver a public Information System which would generate on request a national\\nMulti-Modal Public Transport Travel Itinerary that will guide commuters from their point of origin to\\ntheir desired destination within the Republic of Ireland.\\nIt aims to integrate as many Irish public transport companies as possible, then offer routing and access\\nto this public IS from all web-compatible devices like smartphones, tabletPCs, laptops, desktops etc\\nTMT Project received collaboration & support from: Department of Transport Ireland; Former Minister\\nfor Transport Mr Noel Dempsey TD; National Transport Authority; Transport 21 offi ce; Dublin Chamber\\nof Commerce; Irish Rail, Eirebus/Urbus and Dublin Bikes; IBM Ireland; DCU.\\nPresentation website: www.tmtproject.eu Blog and history tracking: www.tmtproject.info\\nTMT Project web address: www.tmtproject.net\\nNote: Due to the massive scale and complexity of TMT Project’s architecture, only a proof of concept\\nwill be demonstrated in the presentation.\\nPrimary Area: Web Application\\nSecondary Area: Navigation Information Platform\\nPrimary OS: Multi-platform\\nPrimary Technology: Google Maps Javascript API V3\\nSecondary Technology: Sencha Ext JS, MySQL, PHP\\n', 'Project Title: Making it Easy to Create Worlds for the World Wide Mind\\nName: John Pendlebury\\nEmail: john.pendlebury2@mail.dcu.ie\\nProgramme: Software Engineering\\nSupervisor: Dr. Mark Humphries\\nThe ‘World-Wide-Mind’ is a project which enables the construction of large, collaborative, multi-author,\\n‘Society-of-Mind’ systems in Artifi cial Intelligence (AI). It can also be used as a generic platform on\\nwhich to pose software problems, whether related to AI or not, and develop and rank solutions to those\\nproblems. Software problems, in terms of the World-Wide-Mind, are constructed as subclasses of the\\n‘World’ class, which is defi ned in the World-Wide-Mind programming interface. Solutions to problems\\nare constructed as subclasses of the ‘Mind’ class, which is also defi ned in the World-Wide-Mind\\nprogramming interface. Minds are written for specifi c Worlds, against which they are run by users,\\nand then graded automatically. Currently, in order to develop Worlds and Minds, a user of the WorldWide-Mind system must download the World-Wide-Mind programming interface as a ‘jar’ fi le. The user\\nmust also have the Java Virtual Machine (JVM) and the Java Development Kit (JDK) installed on their\\ndevelopment system. Once Worlds and Minds are developed and tested off-line, they can be uploaded\\nto the World-Wide-Mind server and run in a live environment. The primary intent of this project is to\\neliminate the requirement to have anything pre-installed on a user’s development system (other than\\na browser with an Internet connection) in order to develop Worlds and Minds for the World-Wide-Mind\\nsystem, and in doing so, make it easier to develop Worlds and Minds for the World-Wide-Mind project.\\nPrimary Area: Web Application\\nSecondary Area: Online Compilation and Deployment\\nPrimary OS: Unix/Linux\\nPrimary Technology: PHP\\nSecondary Technology: JavaScript\\n', 'Project Title: C2MIPS64\\nName: Ross Haugh\\nEmail: ross.haugh2@mail.dcu.ie\\nProgramme: Software Engineering\\nSupervisor: Prof. Mike Scott\\nC2MIPS64 is a compiler for a subset of the C programming language. This compiler will be composed\\nof a collection of different components which together will analyse the input program and produce\\nan output program. There are four stages in the compiler: Lexical Analysis, Syntax Analysis, Semantic\\nAnalysis and Code Generation. At each stage of the analysis an intermediate representation of the\\nsource program is generated, this is passed through the compiler phases, with the fi nal stage using\\nthis representation to generate the target code. The target code is aimed at the WINMIPS64 simulator\\ndeveloped by Prof. Michael Scott.\\nThe project may be utilised by students who wish to learn how a high-level language is mapped to\\na low level language. It would be benefi cial to any student who is currently undertaking an Assembly\\nLanguage or Computer Architecture course at the undergraduate level. The execution of the target\\ncode in the WINMIPS64 environment will allow students to associate the C code to the corresponding\\nMIPS64 code.\\nThe compiler will be created using the C programming language and will be completely platform\\nindependent. However, the generated code will only run on a Windows XP / Vista or 7 platform, where\\nWINMIPS64 is solely supported.\\nThe aim of this project is to deliver a system which can take a source program as input, written using\\na subset of the C programming language, and translate it into a target program, written in the MIPS64\\nlanguage. This target language will then be executable on the WINMIPS64 simulator.\\nPrimary Area: Compilers\\nSecondary Area: None\\nPrimary OS: Windows\\nPrimary Technology: C/C++\\nSecondary Technology: MIPS64\\n']\n",
      "69\n"
     ]
    }
   ],
   "source": [
    "print(projects_strings[0:3])\n",
    "print(len(projects_strings))"
   ]
  },
  {
   "cell_type": "code",
   "execution_count": 28,
   "metadata": {},
   "outputs": [],
   "source": [
    "regex_schema = {\n",
    "    'title': r'Project Title:(.*?)Name',\n",
    "    'students': r'Name:(.*?)Programme',\n",
    "    'programme': r'Programme:(.*)Supervisor',\n",
    "    'supervisor_and_description': r'Supervisor:(.*?)(?:Primary Area:|Secondary Area:|Primary OS:|Primary Technology:|Secondary Technology:|$)',\n",
    "    'primary_area': r'Primary Area:(.*?)(?:Secondary Area:|Primary OS:|Primary Technology:|Secondary Technology:|$)',\n",
    "    'secondary_area': r'Secondary Area:(.*?)(?:Primary OS:|Primary Technology:|Secondary Technology:|$)',\n",
    "    'primary_os': r'Primary OS:(.*?)(?:Primary Technology:|Secondary Technology:|$)',\n",
    "    'primary_tech': r'Primary Technology:(.*?)(?:Secondary Technology|$)',\n",
    "    'secondary_tech': r'Secondary Technology:(.*?)$',\n",
    "}"
   ]
  },
  {
   "cell_type": "code",
   "execution_count": 29,
   "metadata": {},
   "outputs": [],
   "source": [
    "projects = projects_parser.parse_projects(projects_strings, regex_schema)"
   ]
  },
  {
   "cell_type": "code",
   "execution_count": 31,
   "metadata": {
    "scrolled": true
   },
   "outputs": [
    {
     "data": {
      "text/plain": [
       "[{'title': ' TMT Project (Take Me There) - MultiModal National\\nPublic Transport Information System\\n',\n",
       "  'students': ' Ovidiu Bernaschi\\nEmail: bernaso2@computing.dcu.ie\\n',\n",
       "  'programme': ' Information Systems\\n',\n",
       "  'supervisor_and_description': ' Dr. Martin Crane\\nTMT Project aims to deliver a public Information System which would generate on request a national\\nMulti-Modal Public Transport Travel Itinerary that will guide commuters from their point of origin to\\ntheir desired destination within the Republic of Ireland.\\nIt aims to integrate as many Irish public transport companies as possible, then offer routing and access\\nto this public IS from all web-compatible devices like smartphones, tabletPCs, laptops, desktops etc\\nTMT Project received collaboration & support from: Department of Transport Ireland; Former Minister\\nfor Transport Mr Noel Dempsey TD; National Transport Authority; Transport 21 offi ce; Dublin Chamber\\nof Commerce; Irish Rail, Eirebus/Urbus and Dublin Bikes; IBM Ireland; DCU.\\nPresentation website: www.tmtproject.eu Blog and history tracking: www.tmtproject.info\\nTMT Project web address: www.tmtproject.net\\nNote: Due to the massive scale and complexity of TMT Project’s architecture, only a proof of concept\\nwill be demonstrated in the presentation.\\n',\n",
       "  'primary_area': ' Web Application\\n',\n",
       "  'secondary_area': ' Navigation Information Platform\\n',\n",
       "  'primary_os': ' Multi-platform\\n',\n",
       "  'primary_tech': ' Google Maps Javascript API V3\\n',\n",
       "  'secondary_tech': ' Sencha Ext JS, MySQL, PHP'},\n",
       " {'title': ' Making it Easy to Create Worlds for the World Wide Mind\\n',\n",
       "  'students': ' John Pendlebury\\nEmail: john.pendlebury2@mail.dcu.ie\\n',\n",
       "  'programme': ' Software Engineering\\n',\n",
       "  'supervisor_and_description': ' Dr. Mark Humphries\\nThe ‘World-Wide-Mind’ is a project which enables the construction of large, collaborative, multi-author,\\n‘Society-of-Mind’ systems in Artifi cial Intelligence (AI). It can also be used as a generic platform on\\nwhich to pose software problems, whether related to AI or not, and develop and rank solutions to those\\nproblems. Software problems, in terms of the World-Wide-Mind, are constructed as subclasses of the\\n‘World’ class, which is defi ned in the World-Wide-Mind programming interface. Solutions to problems\\nare constructed as subclasses of the ‘Mind’ class, which is also defi ned in the World-Wide-Mind\\nprogramming interface. Minds are written for specifi c Worlds, against which they are run by users,\\nand then graded automatically. Currently, in order to develop Worlds and Minds, a user of the WorldWide-Mind system must download the World-Wide-Mind programming interface as a ‘jar’ fi le. The user\\nmust also have the Java Virtual Machine (JVM) and the Java Development Kit (JDK) installed on their\\ndevelopment system. Once Worlds and Minds are developed and tested off-line, they can be uploaded\\nto the World-Wide-Mind server and run in a live environment. The primary intent of this project is to\\neliminate the requirement to have anything pre-installed on a user’s development system (other than\\na browser with an Internet connection) in order to develop Worlds and Minds for the World-Wide-Mind\\nsystem, and in doing so, make it easier to develop Worlds and Minds for the World-Wide-Mind project.\\n',\n",
       "  'primary_area': ' Web Application\\n',\n",
       "  'secondary_area': ' Online Compilation and Deployment\\n',\n",
       "  'primary_os': ' Unix/Linux\\n',\n",
       "  'primary_tech': ' PHP\\n',\n",
       "  'secondary_tech': ' JavaScript'},\n",
       " {'title': ' C2MIPS64\\n',\n",
       "  'students': ' Ross Haugh\\nEmail: ross.haugh2@mail.dcu.ie\\n',\n",
       "  'programme': ' Software Engineering\\n',\n",
       "  'supervisor_and_description': ' Prof. Mike Scott\\nC2MIPS64 is a compiler for a subset of the C programming language. This compiler will be composed\\nof a collection of different components which together will analyse the input program and produce\\nan output program. There are four stages in the compiler: Lexical Analysis, Syntax Analysis, Semantic\\nAnalysis and Code Generation. At each stage of the analysis an intermediate representation of the\\nsource program is generated, this is passed through the compiler phases, with the fi nal stage using\\nthis representation to generate the target code. The target code is aimed at the WINMIPS64 simulator\\ndeveloped by Prof. Michael Scott.\\nThe project may be utilised by students who wish to learn how a high-level language is mapped to\\na low level language. It would be benefi cial to any student who is currently undertaking an Assembly\\nLanguage or Computer Architecture course at the undergraduate level. The execution of the target\\ncode in the WINMIPS64 environment will allow students to associate the C code to the corresponding\\nMIPS64 code.\\nThe compiler will be created using the C programming language and will be completely platform\\nindependent. However, the generated code will only run on a Windows XP / Vista or 7 platform, where\\nWINMIPS64 is solely supported.\\nThe aim of this project is to deliver a system which can take a source program as input, written using\\na subset of the C programming language, and translate it into a target program, written in the MIPS64\\nlanguage. This target language will then be executable on the WINMIPS64 simulator.\\n',\n",
       "  'primary_area': ' Compilers\\n',\n",
       "  'secondary_area': ' None\\n',\n",
       "  'primary_os': ' Windows\\n',\n",
       "  'primary_tech': ' C/C++\\n',\n",
       "  'secondary_tech': ' MIPS64'}]"
      ]
     },
     "execution_count": 31,
     "metadata": {},
     "output_type": "execute_result"
    }
   ],
   "source": [
    "projects[0:3]"
   ]
  },
  {
   "cell_type": "code",
   "execution_count": 32,
   "metadata": {},
   "outputs": [],
   "source": [
    "projects_final = projects_parser.canonicalize_projects(projects, name_sep='Name:', email_sep='Email:')"
   ]
  },
  {
   "cell_type": "code",
   "execution_count": 33,
   "metadata": {},
   "outputs": [
    {
     "data": {
      "text/plain": [
       "[{'title': 'TMT Project (Take Me There) - MultiModal National Public Transport Information System',\n",
       "  'students': [{'name': 'Ovidiu Bernaschi',\n",
       "    'email': 'bernaso2@computing.dcu.ie'}],\n",
       "  'programme': 'Information Systems',\n",
       "  'primary_area': 'Web Application',\n",
       "  'secondary_area': 'Navigation Information Platform',\n",
       "  'primary_os': 'Multi-platform',\n",
       "  'primary_tech': 'Google Maps Javascript API V3',\n",
       "  'secondary_tech': 'Sencha Ext JS, MySQL, PHP',\n",
       "  'supervisor': 'Dr. Martin Crane',\n",
       "  'description': 'TMT Project aims to deliver a public Information System which would generate on request a national Multi-Modal Public Transport Travel Itinerary that will guide commuters from their point of origin to their desired destination within the Republic of Ireland. It aims to integrate as many Irish public transport companies as possible, then offer routing and access to this public IS from all web-compatible devices like smartphones, tabletPCs, laptops, desktops etc TMT Project received collaboration & support from: Department of Transport Ireland; Former Minister for Transport Mr Noel Dempsey TD; National Transport Authority; Transport 21 offi ce; Dublin Chamber of Commerce; Irish Rail, Eirebus/Urbus and Dublin Bikes; IBM Ireland; DCU. Presentation website: www.tmtproject.eu Blog and history tracking: www.tmtproject.info TMT Project web address: www.tmtproject.net Note: Due to the massive scale and complexity of TMT Project’s architecture, only a proof of concept will be demonstrated in the presentation.'},\n",
       " {'title': 'Making it Easy to Create Worlds for the World Wide Mind',\n",
       "  'students': [{'name': 'John Pendlebury',\n",
       "    'email': 'john.pendlebury2@mail.dcu.ie'}],\n",
       "  'programme': 'Software Engineering',\n",
       "  'primary_area': 'Web Application',\n",
       "  'secondary_area': 'Online Compilation and Deployment',\n",
       "  'primary_os': 'Unix/Linux',\n",
       "  'primary_tech': 'PHP',\n",
       "  'secondary_tech': 'JavaScript',\n",
       "  'supervisor': 'Dr. Mark Humphries',\n",
       "  'description': 'The ‘World-Wide-Mind’ is a project which enables the construction of large, collaborative, multi-author, ‘Society-of-Mind’ systems in Artifi cial Intelligence (AI). It can also be used as a generic platform on which to pose software problems, whether related to AI or not, and develop and rank solutions to those problems. Software problems, in terms of the World-Wide-Mind, are constructed as subclasses of the ‘World’ class, which is defi ned in the World-Wide-Mind programming interface. Solutions to problems are constructed as subclasses of the ‘Mind’ class, which is also defi ned in the World-Wide-Mind programming interface. Minds are written for specifi c Worlds, against which they are run by users, and then graded automatically. Currently, in order to develop Worlds and Minds, a user of the WorldWide-Mind system must download the World-Wide-Mind programming interface as a ‘jar’ fi le. The user must also have the Java Virtual Machine (JVM) and the Java Development Kit (JDK) installed on their development system. Once Worlds and Minds are developed and tested off-line, they can be uploaded to the World-Wide-Mind server and run in a live environment. The primary intent of this project is to eliminate the requirement to have anything pre-installed on a user’s development system (other than a browser with an Internet connection) in order to develop Worlds and Minds for the World-Wide-Mind system, and in doing so, make it easier to develop Worlds and Minds for the World-Wide-Mind project.'},\n",
       " {'title': 'C2MIPS64',\n",
       "  'students': [{'name': 'Ross Haugh', 'email': 'ross.haugh2@mail.dcu.ie'}],\n",
       "  'programme': 'Software Engineering',\n",
       "  'primary_area': 'Compilers',\n",
       "  'secondary_area': 'None',\n",
       "  'primary_os': 'Windows',\n",
       "  'primary_tech': 'C/C++',\n",
       "  'secondary_tech': 'MIPS64',\n",
       "  'supervisor': 'Prof. Mike Scott',\n",
       "  'description': 'C2MIPS64 is a compiler for a subset of the C programming language. This compiler will be composed of a collection of different components which together will analyse the input program and produce an output program. There are four stages in the compiler: Lexical Analysis, Syntax Analysis, Semantic Analysis and Code Generation. At each stage of the analysis an intermediate representation of the source program is generated, this is passed through the compiler phases, with the fi nal stage using this representation to generate the target code. The target code is aimed at the WINMIPS64 simulator developed by Prof. Michael Scott. The project may be utilised by students who wish to learn how a high-level language is mapped to a low level language. It would be benefi cial to any student who is currently undertaking an Assembly Language or Computer Architecture course at the undergraduate level. The execution of the target code in the WINMIPS64 environment will allow students to associate the C code to the corresponding MIPS64 code. The compiler will be created using the C programming language and will be completely platform independent. However, the generated code will only run on a Windows XP / Vista or 7 platform, where WINMIPS64 is solely supported. The aim of this project is to deliver a system which can take a source program as input, written using a subset of the C programming language, and translate it into a target program, written in the MIPS64 language. This target language will then be executable on the WINMIPS64 simulator.'}]"
      ]
     },
     "execution_count": 33,
     "metadata": {},
     "output_type": "execute_result"
    }
   ],
   "source": [
    "projects_final[0:3]"
   ]
  },
  {
   "cell_type": "code",
   "execution_count": 34,
   "metadata": {},
   "outputs": [
    {
     "data": {
      "text/plain": [
       "69"
      ]
     },
     "execution_count": 34,
     "metadata": {},
     "output_type": "execute_result"
    }
   ],
   "source": [
    "len(projects_final)"
   ]
  },
  {
   "cell_type": "code",
   "execution_count": 35,
   "metadata": {},
   "outputs": [],
   "source": [
    "projects_parser.write_json('2011', projects_final)"
   ]
  },
  {
   "cell_type": "code",
   "execution_count": null,
   "metadata": {},
   "outputs": [],
   "source": []
  }
 ],
 "metadata": {
  "kernelspec": {
   "display_name": "Python 3",
   "language": "python",
   "name": "python3"
  },
  "language_info": {
   "codemirror_mode": {
    "name": "ipython",
    "version": 3
   },
   "file_extension": ".py",
   "mimetype": "text/x-python",
   "name": "python",
   "nbconvert_exporter": "python",
   "pygments_lexer": "ipython3",
   "version": "3.7.4"
  }
 },
 "nbformat": 4,
 "nbformat_minor": 4
}
