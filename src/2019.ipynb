{
 "cells": [
  {
   "cell_type": "code",
   "execution_count": 1,
   "metadata": {},
   "outputs": [],
   "source": [
    "# pick up any changes to modules before executing\n",
    "%load_ext autoreload\n",
    "%autoreload 2"
   ]
  },
  {
   "cell_type": "code",
   "execution_count": 2,
   "metadata": {},
   "outputs": [],
   "source": [
    "import re\n",
    "\n",
    "import projects_parser"
   ]
  },
  {
   "cell_type": "code",
   "execution_count": 3,
   "metadata": {},
   "outputs": [],
   "source": [
    "BOOKLET_FILE = '../booklets_text/2019.txt'"
   ]
  },
  {
   "cell_type": "code",
   "execution_count": 4,
   "metadata": {},
   "outputs": [],
   "source": [
    "with open(BOOKLET_FILE, encoding='utf-8') as f:\n",
    "    raw_lines = f.readlines()"
   ]
  },
  {
   "cell_type": "code",
   "execution_count": 5,
   "metadata": {},
   "outputs": [
    {
     "name": "stdout",
     "output_type": "stream",
     "text": [
      "['1\\n', 'Project Title An Investigation into Steam Turbine Design for Power Generation\\n', '& its Position in the Future Energy Sector\\n', 'Name Conor Meyler\\n', 'Email conor.meyler2@mail.dcu.ie\\n', 'Programme Mechatronic Engineering – ME4\\n', 'Supervisor James Carton\\n', 'Steam turbines are at the backbone of power generation with over 80% of all electricity\\n', 'generation in the world is supplied by steam turbines. Even with the decline of large-scale\\n', 'thermal power plants due to the increasing uptake of renewable energies such as wind and\\n', 'solar. There will always be a need for steam turbines to provide maximum efficiency from\\n', 'sources like nuclear, geothermal or natural gas. This Project takes an in depth look at the\\n', 'steam turbine and its future potential.\\n', 'Project Area Electric Generation, Energy Conservation, Renewable Energy\\n', 'Technology, Thermodynamics\\n', 'Project Technology Solidworks, Labview\\n', '2\\n', 'Project Title Finite Element Analysis of Fracture Fixation\\n', 'Name Arón Floody\\n', 'Email aron.floody2@mail.dcu.ie\\n']\n",
      "3467\n"
     ]
    }
   ],
   "source": [
    "print(raw_lines[:20])\n",
    "print(len(raw_lines))"
   ]
  },
  {
   "cell_type": "code",
   "execution_count": 6,
   "metadata": {},
   "outputs": [],
   "source": [
    "# get rid of project numbering\n",
    "filter_pattern = re.compile(r'^\\d+$\\s', re.M)\n",
    "lines_filtered = list(filter(lambda line: not filter_pattern.match(line), raw_lines))"
   ]
  },
  {
   "cell_type": "code",
   "execution_count": 7,
   "metadata": {
    "scrolled": true
   },
   "outputs": [
    {
     "name": "stdout",
     "output_type": "stream",
     "text": [
      "['Project Title An Investigation into Steam Turbine Design for Power Generation\\n', '& its Position in the Future Energy Sector\\n', 'Name Conor Meyler\\n', 'Email conor.meyler2@mail.dcu.ie\\n', 'Programme Mechatronic Engineering – ME4\\n', 'Supervisor James Carton\\n', 'Steam turbines are at the backbone of power generation with over 80% of all electricity\\n', 'generation in the world is supplied by steam turbines. Even with the decline of large-scale\\n', 'thermal power plants due to the increasing uptake of renewable energies such as wind and\\n', 'solar. There will always be a need for steam turbines to provide maximum efficiency from\\n', 'sources like nuclear, geothermal or natural gas. This Project takes an in depth look at the\\n', 'steam turbine and its future potential.\\n', 'Project Area Electric Generation, Energy Conservation, Renewable Energy\\n', 'Technology, Thermodynamics\\n', 'Project Technology Solidworks, Labview\\n', 'Project Title Finite Element Analysis of Fracture Fixation\\n', 'Name Arón Floody\\n', 'Email aron.floody2@mail.dcu.ie\\n', 'Programme Biomedical Engineering – BMED4\\n', 'Supervisor Bryan MacDonald\\n', 'This project examines the effects of varying several parameters of a fracture fixation plate\\n', 'implant on the inter-fragmentary strain experienced at the site of a traverse femoral fracture.\\n', 'Inter-fragmentary is a very important aspect of the fracture healing process as it has been\\n', 'found to directly relate to the level of callus formation which determines the rate of healing\\n', 'in the bone. A series of 3D finite element models were created using ANSYS Workbench to\\n', 'produce computational results.\\n', 'Project Area 3-D Modelling, Biomedical Engineering, Finite Element Analysis\\n', 'Project Technology ANSYS Workbench\\n', 'Project Title Password Manager with P2P Synchronization\\n', 'Name Dean Lynch\\n']\n",
      "3236\n"
     ]
    }
   ],
   "source": [
    "print(lines_filtered[:30])\n",
    "print(len(lines_filtered))"
   ]
  },
  {
   "cell_type": "code",
   "execution_count": 8,
   "metadata": {},
   "outputs": [],
   "source": [
    "# Transform certain characters\n",
    "\n",
    "lines = [projects_parser.normalize_characters(line) for line in lines_filtered]"
   ]
  },
  {
   "cell_type": "code",
   "execution_count": 9,
   "metadata": {},
   "outputs": [
    {
     "name": "stdout",
     "output_type": "stream",
     "text": [
      "['Project Title An Investigation into Steam Turbine Design for Power Generation\\n', '& its Position in the Future Energy Sector\\n', 'Name Conor Meyler\\n', 'Email conor.meyler2@mail.dcu.ie\\n', 'Programme Mechatronic Engineering – ME4\\n', 'Supervisor James Carton\\n', 'Steam turbines are at the backbone of power generation with over 80% of all electricity\\n', 'generation in the world is supplied by steam turbines. Even with the decline of large-scale\\n', 'thermal power plants due to the increasing uptake of renewable energies such as wind and\\n', 'solar. There will always be a need for steam turbines to provide maximum efficiency from\\n', 'sources like nuclear, geothermal or natural gas. This Project takes an in depth look at the\\n', 'steam turbine and its future potential.\\n', 'Project Area Electric Generation, Energy Conservation, Renewable Energy\\n', 'Technology, Thermodynamics\\n', 'Project Technology Solidworks, Labview\\n', 'Project Title Finite Element Analysis of Fracture Fixation\\n', 'Name Arón Floody\\n', 'Email aron.floody2@mail.dcu.ie\\n', 'Programme Biomedical Engineering – BMED4\\n', 'Supervisor Bryan MacDonald\\n', 'This project examines the effects of varying several parameters of a fracture fixation plate\\n', 'implant on the inter-fragmentary strain experienced at the site of a traverse femoral fracture.\\n', 'Inter-fragmentary is a very important aspect of the fracture healing process as it has been\\n', 'found to directly relate to the level of callus formation which determines the rate of healing\\n', 'in the bone. A series of 3D finite element models were created using ANSYS Workbench to\\n', 'produce computational results.\\n', 'Project Area 3-D Modelling, Biomedical Engineering, Finite Element Analysis\\n', 'Project Technology ANSYS Workbench\\n', 'Project Title Password Manager with P2P Synchronization\\n', 'Name Dean Lynch\\n']\n",
      "3236\n"
     ]
    }
   ],
   "source": [
    "print(lines[0:30])\n",
    "print(len(lines))"
   ]
  },
  {
   "cell_type": "code",
   "execution_count": 10,
   "metadata": {},
   "outputs": [],
   "source": [
    "# Separate lines into list of projects\n",
    "\n",
    "projects_strings = projects_parser.lines_to_projects(lines)"
   ]
  },
  {
   "cell_type": "code",
   "execution_count": 11,
   "metadata": {},
   "outputs": [
    {
     "name": "stdout",
     "output_type": "stream",
     "text": [
      "['Project Title An Investigation into Steam Turbine Design for Power Generation\\n& its Position in the Future Energy Sector\\nName Conor Meyler\\nEmail conor.meyler2@mail.dcu.ie\\nProgramme Mechatronic Engineering – ME4\\nSupervisor James Carton\\nSteam turbines are at the backbone of power generation with over 80% of all electricity\\ngeneration in the world is supplied by steam turbines. Even with the decline of large-scale\\nthermal power plants due to the increasing uptake of renewable energies such as wind and\\nsolar. There will always be a need for steam turbines to provide maximum efficiency from\\nsources like nuclear, geothermal or natural gas. This Project takes an in depth look at the\\nsteam turbine and its future potential.\\nProject Area Electric Generation, Energy Conservation, Renewable Energy\\nTechnology, Thermodynamics\\nProject Technology Solidworks, Labview\\n', 'Project Title Finite Element Analysis of Fracture Fixation\\nName Arón Floody\\nEmail aron.floody2@mail.dcu.ie\\nProgramme Biomedical Engineering – BMED4\\nSupervisor Bryan MacDonald\\nThis project examines the effects of varying several parameters of a fracture fixation plate\\nimplant on the inter-fragmentary strain experienced at the site of a traverse femoral fracture.\\nInter-fragmentary is a very important aspect of the fracture healing process as it has been\\nfound to directly relate to the level of callus formation which determines the rate of healing\\nin the bone. A series of 3D finite element models were created using ANSYS Workbench to\\nproduce computational results.\\nProject Area 3-D Modelling, Biomedical Engineering, Finite Element Analysis\\nProject Technology ANSYS Workbench\\n', 'Project Title Password Manager with P2P Synchronization\\nName Dean Lynch\\nEmail dean.lynch49@mail.dcu.ie\\nProgramme Computer Applications – CASE4\\nSupervisor Brian Stone\\nThis is a unique application that combines password database management and\\nsynchronisation into a unified application. The application reads from a locally stored\\npassword database file, which can then be synchronised across a users devices using a\\npeer-to-peer connection. This eliminates the need to expose the password database to\\nthird-party servers or cloud storage services, as well as saving the user the need to manually\\nsynchronise the database or manage their own self-hosted solution.\\nProject Area Cryptography, Network Applications, Security\\nProject Technology Groovy, Java\\n']\n",
      "231\n"
     ]
    }
   ],
   "source": [
    "print(projects_strings[0:3])\n",
    "print(len(projects_strings))"
   ]
  },
  {
   "cell_type": "code",
   "execution_count": 12,
   "metadata": {},
   "outputs": [],
   "source": [
    "regex_schema = {\n",
    "    'title': r'Project Title(.*?)Name',\n",
    "    'students': r'Name(.*?)Programme',\n",
    "    'programme': r'Programme(.*)Supervisor',\n",
    "    'supervisor_and_description': r'Supervisor(.*)Project Area',\n",
    "    'area': r'Project Area(.*?)(?:Project Technology|$)',\n",
    "    'technology': r'Project Technology(.*?)$',\n",
    "}"
   ]
  },
  {
   "cell_type": "code",
   "execution_count": 13,
   "metadata": {
    "scrolled": true
   },
   "outputs": [
    {
     "name": "stdout",
     "output_type": "stream",
     "text": [
      "technology ANOMALY: 4 Project Title Testing of a Nicotine Replacement Therapy Devices\n",
      "Name Shauna Murphy\n",
      "Email shauna.murphy325@mail.dcu.ie\n",
      "Programme Biomedical Engineering – BMED4\n",
      "Supervisor Lorna Fitzsimon\n",
      "This project was conducted in collaboration with Nypro Healthcare, Waterford to assist in the\n",
      "validation of an assembly line producing a nicotine replacement therapy device. The project\n",
      "aims to develop a method to determine a range of parameters which will produce weld joints\n",
      "possessing optimal weld strength. The process incorporates the use of visual inspection,\n",
      "destructive tensile testing and Minitab statistical analysis.\n",
      "Project Area Mechanical Design and Manufacture\n",
      " []\n",
      "technology ANOMALY: 20 Project Title Manufacture of porous tissue engineering scaffolds using\n",
      "supercritical fluids\n",
      "Name Aaron Fenlon\n",
      "Email aaron.fenlon2@mail.dcu.ie\n",
      "Programme Biomedical Engineering – BMED4\n",
      "Supervisor Garrett McGuinness\n",
      "The fabrication of 3-dimensional tissue scaffolds for the repair and regeneration is an ever\n",
      "growing field within tissue engineering. Existing fabrication methods exhibit issues with\n",
      "uniform porosity and irregular internal micro-architecture. Current research theorizes that\n",
      "supercritical fluids can be utilized to mitigate this issue. This project investigates the capability\n",
      "of manufacturing uniformly porous tissue scaffolds, using supercritical carbon dioxide;\n",
      "in-house, in Dublin City University.\n",
      "Project Area Tissue Engineering\n",
      " []\n",
      "technology ANOMALY: 55 Project Title Optimization of the particle morphology of the glass phase of an\n",
      "injectable composite material\n",
      "Name Colm Ferguson\n",
      "Email colm.ferguson7@mail.dcu.ie\n",
      "Programme Biomedical Engineering – BMED4\n",
      "Supervisor Owen Clarkin\n",
      "A novel composite hydrogel has been developed to prevent the recurrence of intra cranial\n",
      "aneurysms. The hydrogel is made up of a silica-based glass, an alginate derived from brown\n",
      "seaweed and glucono-delta lactone. The glass phase of this composite hydrogel was analysed\n",
      "using image processing techniques and laser diffraction particle analysis. Different processing\n",
      "parameters were altered when milling the glass, to see what kind of effects they play on the\n",
      "particle morphology of the glass particles. The effect of milling time and milling speed on the\n",
      "glass samples were investigated. Optimum processing parameters were discovered which\n",
      "increased the specific surface area of the glass samples, which in turn enhanced the working\n",
      "time and mechanical properties of the resultant hydrogels.\n",
      "Project Area Biomedical Engineering\n",
      " []\n",
      "technology ANOMALY: 56 Project Title Destructive versus Non-Destructive Testing of Electro-Fused\n",
      "Polyethylene Pipes\n",
      "Name Conor Daly\n",
      "Email conor.daly65@mail.dcu.ie\n",
      "Programme Mechatronic Engineering – ME4\n",
      "Supervisor Lorna Fitzsimons\n",
      "This project compares destructive and non-destructive testing of EF PE pipes, commonly used\n",
      "in the gas and water transmission industry. Ultrasonic testing is compared to Peel testing in\n",
      "terms of potentially replacing it as the industry standard for testing this type of pipe weld.\n",
      "Samples of EF PE pipe joints were tested using the peel testing method to determine the\n",
      "accuracy.\n",
      "Project Area Advanced Material Engineering\n",
      " []\n",
      "technology ANOMALY: 101 Project Title Paper to Cloud\n",
      "Name Ibrahim Darwish\n",
      "Email ibrahim.darwish2@mail.dcu.ie\n",
      "Programme Mechanical and Manufacturing Engineering – CAM4\n",
      "Supervisor Lorna Fitzsimons\n",
      "The aim of this project to research, develop, and implement a new system into Renley\n",
      "production line by organising, accessing, and establishing the retrieval of documents using\n",
      "software based on Lean Six Sigma tools. This was done by using a software called iAuditor\n",
      "that will digitise tests and inspection checklists, streamline the process by providing a more\n",
      "flexible way to create records and generate them straight from a smart device called Galaxy\n",
      "Tab Active 2.\n",
      "Project Area Cloud Computing, Information Retrieval, Lean Manufacturing,\n",
      "Mobile App, Operating Systems Development, Statistical\n",
      "Analysis, Web Application\n",
      " []\n",
      "technology ANOMALY: 112 Project Title Robotic Development in the Horticulture Industry\n",
      "Name Patrick Doran\n",
      "Email patrick.doran23@mail.dcu.ie\n",
      "Programme Mechatronic Engineering – ME4\n",
      "Supervisor Harold Esmonde\n",
      "This provides the bases for an automated solution of the propagation process for hard nursery\n",
      "stock. The project develops the inital station of part feeding for the automation of the process.\n",
      "Project Area Automation\n",
      " []\n",
      "technology ANOMALY: 124 Project Title Toward sustainable advanced manufacturing: Investigation\n",
      "of waste gases from laser processing\n",
      "Name Anthony Byrne\n",
      "Email anthony.byrne248@mail.dcu.ie\n",
      "Programme Mechanical and Manufacturing Engineering – CAM4\n",
      "Supervisor Dermot Brabazon\n",
      "This Final Year Project focuses on the analysis of CO2 emitted from the plywood when cut\n",
      "with a 1.5W CO2 laser to determine ways of reducing CO2 in order to reduce the impact of\n",
      "Industrial greenhouse gas emissions. The percentage content of the gas for each run was\n",
      "examined using the Geotech Biogas Analyser 5000 available in DCU.\n",
      "Project Area Advanced Material Engineering\n",
      " []\n",
      "technology ANOMALY: 130 Project Title Design, Test and Build a Reject Transfer Device for a Generic\n",
      "Pharmaceutical Line\n",
      "Name Niall Treacy\n",
      "Email niall.treacy6@mail.dcu.ie\n",
      "Programme Mechatronic Engineering – ME4\n",
      "Supervisor Noel Murphy\n",
      "This project set out to design an alternative to the monopolized reject detection systems\n",
      "available in modern pharmaceutical inhalation facilities. Its purpose is to design and\n",
      "manufacture a standalone automated reject detection system using the skills acquired\n",
      "from the Mechatronic Engineering course in DCU.\n",
      "Project Area Automation\n",
      " []\n",
      "technology ANOMALY: 172 Project Title Short Fibre Reinforced Calcium Phosphate Cement\n",
      "Name Rebecca Guyett\n",
      "Email rebecca.guyett2@mail.dcu.ie\n",
      "Programme Biomedical Engineering – BMED4\n",
      "Supervisor Nicholas Dunne\n",
      "Injectable bone cements are routinely used to stabilise fractures and for the augmentation\n",
      "of osteoporotic bone. Calcium phosphate based cement has good biocompatibility but poor\n",
      "mechanical and injectability properties compared to polymer based cement and is not\n",
      "currently used for load bearing applications such as vertebroplasties.\n",
      "The aim of this project is to improve fracture behaviour of CPC through incorporation of short\n",
      "fibres whilst retaining injectability. Similar techniques have been employed to improve the\n",
      "fracture behaviour of concrete.\n",
      "Project Area Biomedical Engineering\n",
      " []\n",
      "technology ANOMALY: 174 Project Title Investigations Into A GMP HVAC System\n",
      "Name Lauren Conlon\n",
      "Email lauren.conlon6@mail.dcu.ie\n",
      "Programme Mechanical and Manufacturing Engineering – CAM4\n",
      "Supervisor Brian Corcoran\n",
      "In a pharmaceutical manufacturing plant in Ireland, there was found to be significant issues in\n",
      "the glycol chilled AHU (Air Handling Unit). The aim of this project is to investigate and address\n",
      "the mechanical and psychometric conditions that caused these issues and to implement a\n",
      "solution that would solve any underlying problems. The investigation was carried out through\n",
      "a thorough survey of the AHU, and then a series of simulations were carried out on the rig in\n",
      "DCU.\n",
      "Project Area Thermodynamics\n",
      " []\n",
      "technology ANOMALY: 220 Project Title Development of a Twist Friction Test Apparatus\n",
      "Name Abdulaziz Alhokair\n",
      "Email abdulaziz.alhokair2@mail.dcu.ie\n",
      "Programme Manufacturing with Business Engineering – MWB4\n",
      "Supervisor Bryan MacDonald\n",
      "A Twist Friction Test is required to be designed and manufactured in order to test the\n",
      "Coefficient of Friction in metal forming. The test involves applying a normal load to a metal\n",
      "surface and turning a tool against the surface at varying friction forces to measure the\n",
      "coefficient of friction.\n",
      "Calibration test was taken and a code generated to read the loads applied from a pneumatic\n",
      "cylinder and convert voltage to load (N) in order to measure the coefficient of friction. Initial\n",
      "tests were taken to validate the efficiency of the test rig.\n",
      "Project Area Mechanical Design and Manufacture\n",
      " []\n"
     ]
    }
   ],
   "source": [
    "projects = projects_parser.parse_projects(projects_strings, regex_schema)\n",
    "# ignore anomalies about missing project technology (it is simply not provided for certain projects)"
   ]
  },
  {
   "cell_type": "code",
   "execution_count": 14,
   "metadata": {
    "scrolled": true
   },
   "outputs": [
    {
     "name": "stdout",
     "output_type": "stream",
     "text": [
      "[{'title': ' An Investigation into Steam Turbine Design for Power Generation\\n& its Position in the Future Energy Sector\\n', 'students': ' Conor Meyler\\nEmail conor.meyler2@mail.dcu.ie\\n', 'programme': ' Mechatronic Engineering – ME4\\n', 'supervisor_and_description': ' James Carton\\nSteam turbines are at the backbone of power generation with over 80% of all electricity\\ngeneration in the world is supplied by steam turbines. Even with the decline of large-scale\\nthermal power plants due to the increasing uptake of renewable energies such as wind and\\nsolar. There will always be a need for steam turbines to provide maximum efficiency from\\nsources like nuclear, geothermal or natural gas. This Project takes an in depth look at the\\nsteam turbine and its future potential.\\n', 'area': ' Electric Generation, Energy Conservation, Renewable Energy\\nTechnology, Thermodynamics\\n', 'technology': ' Solidworks, Labview'}, {'title': ' Finite Element Analysis of Fracture Fixation\\n', 'students': ' Arón Floody\\nEmail aron.floody2@mail.dcu.ie\\n', 'programme': ' Biomedical Engineering – BMED4\\n', 'supervisor_and_description': ' Bryan MacDonald\\nThis project examines the effects of varying several parameters of a fracture fixation plate\\nimplant on the inter-fragmentary strain experienced at the site of a traverse femoral fracture.\\nInter-fragmentary is a very important aspect of the fracture healing process as it has been\\nfound to directly relate to the level of callus formation which determines the rate of healing\\nin the bone. A series of 3D finite element models were created using ANSYS Workbench to\\nproduce computational results.\\n', 'area': ' 3-D Modelling, Biomedical Engineering, Finite Element Analysis\\n', 'technology': ' ANSYS Workbench'}, {'title': ' Password Manager with P2P Synchronization\\n', 'students': ' Dean Lynch\\nEmail dean.lynch49@mail.dcu.ie\\n', 'programme': ' Computer Applications – CASE4\\n', 'supervisor_and_description': ' Brian Stone\\nThis is a unique application that combines password database management and\\nsynchronisation into a unified application. The application reads from a locally stored\\npassword database file, which can then be synchronised across a users devices using a\\npeer-to-peer connection. This eliminates the need to expose the password database to\\nthird-party servers or cloud storage services, as well as saving the user the need to manually\\nsynchronise the database or manage their own self-hosted solution.\\n', 'area': ' Cryptography, Network Applications, Security\\n', 'technology': ' Groovy, Java'}]\n",
      "231\n"
     ]
    }
   ],
   "source": [
    "print(projects[:3])\n",
    "print(len(projects))"
   ]
  },
  {
   "cell_type": "code",
   "execution_count": 15,
   "metadata": {},
   "outputs": [],
   "source": [
    "projects_final = projects_parser.canonicalize_projects(projects)"
   ]
  },
  {
   "cell_type": "code",
   "execution_count": 16,
   "metadata": {},
   "outputs": [
    {
     "name": "stdout",
     "output_type": "stream",
     "text": [
      "[{'title': 'An Investigation into Steam Turbine Design for Power Generation & its Position in the Future Energy Sector', 'students': [{'name': 'Conor Meyler', 'email': 'conor.meyler2@mail.dcu.ie'}], 'programme': 'Mechatronic Engineering – ME4', 'area': 'Electric Generation, Energy Conservation, Renewable Energy Technology, Thermodynamics', 'technology': 'Solidworks, Labview', 'supervisor': 'James Carton', 'description': 'Steam turbines are at the backbone of power generation with over 80% of all electricity generation in the world is supplied by steam turbines. Even with the decline of large-scale thermal power plants due to the increasing uptake of renewable energies such as wind and solar. There will always be a need for steam turbines to provide maximum efficiency from sources like nuclear, geothermal or natural gas. This Project takes an in depth look at the steam turbine and its future potential.'}, {'title': 'Finite Element Analysis of Fracture Fixation', 'students': [{'name': 'Arón Floody', 'email': 'aron.floody2@mail.dcu.ie'}], 'programme': 'Biomedical Engineering – BMED4', 'area': '3-D Modelling, Biomedical Engineering, Finite Element Analysis', 'technology': 'ANSYS Workbench', 'supervisor': 'Bryan MacDonald', 'description': 'This project examines the effects of varying several parameters of a fracture fixation plate implant on the inter-fragmentary strain experienced at the site of a traverse femoral fracture. Inter-fragmentary is a very important aspect of the fracture healing process as it has been found to directly relate to the level of callus formation which determines the rate of healing in the bone. A series of 3D finite element models were created using ANSYS Workbench to produce computational results.'}, {'title': 'Password Manager with P2P Synchronization', 'students': [{'name': 'Dean Lynch', 'email': 'dean.lynch49@mail.dcu.ie'}], 'programme': 'Computer Applications – CASE4', 'area': 'Cryptography, Network Applications, Security', 'technology': 'Groovy, Java', 'supervisor': 'Brian Stone', 'description': 'This is a unique application that combines password database management and synchronisation into a unified application. The application reads from a locally stored password database file, which can then be synchronised across a users devices using a peer-to-peer connection. This eliminates the need to expose the password database to third-party servers or cloud storage services, as well as saving the user the need to manually synchronise the database or manage their own self-hosted solution.'}]\n",
      "231\n"
     ]
    }
   ],
   "source": [
    "print(projects_final[:3])\n",
    "print(len(projects_final))"
   ]
  },
  {
   "cell_type": "code",
   "execution_count": 17,
   "metadata": {},
   "outputs": [],
   "source": [
    "projects_parser.write_json('2019', projects_final)"
   ]
  },
  {
   "cell_type": "code",
   "execution_count": null,
   "metadata": {},
   "outputs": [],
   "source": []
  }
 ],
 "metadata": {
  "kernelspec": {
   "display_name": "Python 3",
   "language": "python",
   "name": "python3"
  },
  "language_info": {
   "codemirror_mode": {
    "name": "ipython",
    "version": 3
   },
   "file_extension": ".py",
   "mimetype": "text/x-python",
   "name": "python",
   "nbconvert_exporter": "python",
   "pygments_lexer": "ipython3",
   "version": "3.8.2"
  }
 },
 "nbformat": 4,
 "nbformat_minor": 4
}
