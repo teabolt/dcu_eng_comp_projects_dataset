{
 "cells": [
  {
   "cell_type": "code",
   "execution_count": 1,
   "metadata": {},
   "outputs": [],
   "source": [
    "%load_ext autoreload\n",
    "%autoreload 2"
   ]
  },
  {
   "cell_type": "code",
   "execution_count": 2,
   "metadata": {},
   "outputs": [],
   "source": [
    "import re\n",
    "\n",
    "import projects_parser"
   ]
  },
  {
   "cell_type": "code",
   "execution_count": 3,
   "metadata": {},
   "outputs": [],
   "source": [
    "BOOKLET_FILE = '../booklets_text/2017.txt'"
   ]
  },
  {
   "cell_type": "code",
   "execution_count": 4,
   "metadata": {},
   "outputs": [],
   "source": [
    "with open(BOOKLET_FILE, encoding=\"utf-8\") as f:\n",
    "    raw_lines = f.readlines()"
   ]
  },
  {
   "cell_type": "code",
   "execution_count": 5,
   "metadata": {},
   "outputs": [
    {
     "name": "stdout",
     "output_type": "stream",
     "text": [
      "['Project Number: 1\\n', 'Project Title: Virtual society\\n', 'Name: Jingyun Xu\\n', 'Email: jingyun.xu5@mail.dcu.ie\\n', 'Programme: Computer Applications\\n', 'Supervisor: Alistair.Sutherland@dcu.ie\\n', 'Virtual society is an application that could simulate virtual humans to solve tasks with different behaviours in a\\n', 'virtual environment. Different humans in groups with different personalities will make different decisions in a\\n', 'same event. Some are cooperative and others are aggressive. This project is about to simulate humans which\\n', 'have different strategy try to get higher rewards in a society, then find out which strategy will works out best in\\n', 'long term.\\n', 'Project Area: Artificial Intelligence\\n', 'Project Technology: C#, SQLite\\n', 'Project Number: 2\\n', 'Project Title: Design and evaluation of a testing unit to measure sealing pressure of fasteners joints\\n', 'project\\n', 'Name: Pádraig Wall\\n', 'Email: padraig.wall5@mail.dcu.ie\\n', 'Programme: Mechanical and Manufacturing Engineering\\n', 'Supervisor: Dermot.Brabazon@dcu.ie\\n']\n"
     ]
    }
   ],
   "source": [
    "print(raw_lines[0:20])"
   ]
  },
  {
   "cell_type": "code",
   "execution_count": 6,
   "metadata": {},
   "outputs": [],
   "source": [
    "# get rid of project numbering\n",
    "filter_pattern = re.compile(r'^Project Number', re.M)\n",
    "lines_filtered = list(filter(lambda line: not filter_pattern.match(line), raw_lines))"
   ]
  },
  {
   "cell_type": "code",
   "execution_count": 7,
   "metadata": {
    "scrolled": true
   },
   "outputs": [
    {
     "name": "stdout",
     "output_type": "stream",
     "text": [
      "['Project Title: Virtual society\\n', 'Name: Jingyun Xu\\n', 'Email: jingyun.xu5@mail.dcu.ie\\n', 'Programme: Computer Applications\\n', 'Supervisor: Alistair.Sutherland@dcu.ie\\n', 'Virtual society is an application that could simulate virtual humans to solve tasks with different behaviours in a\\n', 'virtual environment. Different humans in groups with different personalities will make different decisions in a\\n', 'same event. Some are cooperative and others are aggressive. This project is about to simulate humans which\\n', 'have different strategy try to get higher rewards in a society, then find out which strategy will works out best in\\n', 'long term.\\n', 'Project Area: Artificial Intelligence\\n', 'Project Technology: C#, SQLite\\n', 'Project Title: Design and evaluation of a testing unit to measure sealing pressure of fasteners joints\\n', 'project\\n', 'Name: Pádraig Wall\\n', 'Email: padraig.wall5@mail.dcu.ie\\n', 'Programme: Mechanical and Manufacturing Engineering\\n', 'Supervisor: Dermot.Brabazon@dcu.ie\\n', 'This project was to design and oversee the manufacturing of a pressure vessel which was used to test Penn\\n', 'Engineering insert products. The vessel design was also constructed in such a way that different parts can be\\n', 'tested using it in the future by replacing one piece of the unit. The pressure system is nitrogen-based, and can\\n', 'be tested up to a ceiling pressure of 160 bar.\\n', 'Project Area: Device Design, Fluid Mechanics, Mechanical Design and Manufacture\\n', 'Project Technology: Excel/VB, Solidworks\\n', 'Project Title: Predictive Analytics Toolkit\\n', 'Name: Sean Quinn\\n', 'Email: sean.quinn34@mail.dcu.ie\\n', 'Programme: Computer Applications\\n', 'Supervisor: Mark.Roantree@dcu.ie\\n', 'This application allows the user to upload csv format datasets and then configure and run several different types\\n']\n"
     ]
    }
   ],
   "source": [
    "print(lines_filtered[0:30])"
   ]
  },
  {
   "cell_type": "code",
   "execution_count": 8,
   "metadata": {},
   "outputs": [],
   "source": [
    "# Transform certain characters\n",
    "\n",
    "lines = [projects_parser.normalize_characters(line) for line in lines_filtered]"
   ]
  },
  {
   "cell_type": "code",
   "execution_count": 9,
   "metadata": {},
   "outputs": [
    {
     "name": "stdout",
     "output_type": "stream",
     "text": [
      "['Project Title: Virtual society\\n', 'Name: Jingyun Xu\\n', 'Email: jingyun.xu5@mail.dcu.ie\\n', 'Programme: Computer Applications\\n', 'Supervisor: Alistair.Sutherland@dcu.ie\\n', 'Virtual society is an application that could simulate virtual humans to solve tasks with different behaviours in a\\n', 'virtual environment. Different humans in groups with different personalities will make different decisions in a\\n', 'same event. Some are cooperative and others are aggressive. This project is about to simulate humans which\\n', 'have different strategy try to get higher rewards in a society, then find out which strategy will works out best in\\n', 'long term.\\n', 'Project Area: Artificial Intelligence\\n', 'Project Technology: C#, SQLite\\n', 'Project Title: Design and evaluation of a testing unit to measure sealing pressure of fasteners joints\\n', 'project\\n', 'Name: Pádraig Wall\\n', 'Email: padraig.wall5@mail.dcu.ie\\n', 'Programme: Mechanical and Manufacturing Engineering\\n', 'Supervisor: Dermot.Brabazon@dcu.ie\\n', 'This project was to design and oversee the manufacturing of a pressure vessel which was used to test Penn\\n', 'Engineering insert products. The vessel design was also constructed in such a way that different parts can be\\n', 'tested using it in the future by replacing one piece of the unit. The pressure system is nitrogen-based, and can\\n', 'be tested up to a ceiling pressure of 160 bar.\\n', 'Project Area: Device Design, Fluid Mechanics, Mechanical Design and Manufacture\\n', 'Project Technology: Excel/VB, Solidworks\\n', 'Project Title: Predictive Analytics Toolkit\\n', 'Name: Sean Quinn\\n', 'Email: sean.quinn34@mail.dcu.ie\\n', 'Programme: Computer Applications\\n', 'Supervisor: Mark.Roantree@dcu.ie\\n', 'This application allows the user to upload csv format datasets and then configure and run several different types\\n']\n",
      "2854\n"
     ]
    }
   ],
   "source": [
    "print(lines[0:30])\n",
    "print(len(lines))"
   ]
  },
  {
   "cell_type": "code",
   "execution_count": 10,
   "metadata": {},
   "outputs": [],
   "source": [
    "# Separate lines into list of projects\n",
    "\n",
    "projects_strings = projects_parser.lines_to_projects(lines)"
   ]
  },
  {
   "cell_type": "code",
   "execution_count": 11,
   "metadata": {},
   "outputs": [
    {
     "name": "stdout",
     "output_type": "stream",
     "text": [
      "['Project Title: Virtual society\\nName: Jingyun Xu\\nEmail: jingyun.xu5@mail.dcu.ie\\nProgramme: Computer Applications\\nSupervisor: Alistair.Sutherland@dcu.ie\\nVirtual society is an application that could simulate virtual humans to solve tasks with different behaviours in a\\nvirtual environment. Different humans in groups with different personalities will make different decisions in a\\nsame event. Some are cooperative and others are aggressive. This project is about to simulate humans which\\nhave different strategy try to get higher rewards in a society, then find out which strategy will works out best in\\nlong term.\\nProject Area: Artificial Intelligence\\nProject Technology: C#, SQLite\\n', 'Project Title: Design and evaluation of a testing unit to measure sealing pressure of fasteners joints\\nproject\\nName: Pádraig Wall\\nEmail: padraig.wall5@mail.dcu.ie\\nProgramme: Mechanical and Manufacturing Engineering\\nSupervisor: Dermot.Brabazon@dcu.ie\\nThis project was to design and oversee the manufacturing of a pressure vessel which was used to test Penn\\nEngineering insert products. The vessel design was also constructed in such a way that different parts can be\\ntested using it in the future by replacing one piece of the unit. The pressure system is nitrogen-based, and can\\nbe tested up to a ceiling pressure of 160 bar.\\nProject Area: Device Design, Fluid Mechanics, Mechanical Design and Manufacture\\nProject Technology: Excel/VB, Solidworks\\n', 'Project Title: Predictive Analytics Toolkit\\nName: Sean Quinn\\nEmail: sean.quinn34@mail.dcu.ie\\nProgramme: Computer Applications\\nSupervisor: Mark.Roantree@dcu.ie\\nThis application allows the user to upload csv format datasets and then configure and run several different types\\nof predictive algorithms simultaneously on the data through a browser-based graphical user interface. This\\nallows contrasting of the performance of the different algorithms and various configurations of their run\\nparameters for any given dataset, principle component analysis and investigation of the nature of the data. The\\napplication features the K-Nearest Neighbours, Decision Tree, Naïve Bayes and Rocchio classification\\nalgorithms.\\nProject Area: Data Analytics, Data Mining, Statistical Analysis, Web Application\\nProject Technology: HTML5, Java, JavaScript, JQuery, REST, SpringMVC\\n']\n"
     ]
    }
   ],
   "source": [
    "print(projects_strings[0:3])\n",
    "print(len(projects_strings))"
   ]
  },
  {
   "cell_type": "code",
   "execution_count": 12,
   "metadata": {},
   "outputs": [
    {
     "data": {
      "text/plain": [
       "243"
      ]
     },
     "execution_count": 12,
     "metadata": {},
     "output_type": "execute_result"
    }
   ],
   "source": []
  },
  {
   "cell_type": "code",
   "execution_count": 13,
   "metadata": {},
   "outputs": [],
   "source": [
    "regex_schema = {\n",
    "    'title': r'Project Title:(.*?)Name',\n",
    "    'students': r'Name:(.*?)Programme',\n",
    "    'programme': r'Programme:(.*)Supervisor',\n",
    "    'supervisor_and_description': r'Supervisor:(.*)Project Area',\n",
    "    'area': r'Project Area:(.*?)(?:Project Technology|$)',\n",
    "    'technology': r'Project Technology:(.*?)$',\n",
    "}"
   ]
  },
  {
   "cell_type": "code",
   "execution_count": 14,
   "metadata": {
    "scrolled": true
   },
   "outputs": [],
   "source": [
    "projects = projects_parser.parse_projects(projects_strings, regex_schema)"
   ]
  },
  {
   "cell_type": "code",
   "execution_count": 15,
   "metadata": {},
   "outputs": [
    {
     "data": {
      "text/plain": [
       "[{'title': ' Virtual society\\n',\n",
       "  'students': ' Jingyun Xu\\nEmail: jingyun.xu5@mail.dcu.ie\\n',\n",
       "  'programme': ' Computer Applications\\n',\n",
       "  'supervisor_and_description': ' Alistair.Sutherland@dcu.ie\\nVirtual society is an application that could simulate virtual humans to solve tasks with different behaviours in a\\nvirtual environment. Different humans in groups with different personalities will make different decisions in a\\nsame event. Some are cooperative and others are aggressive. This project is about to simulate humans which\\nhave different strategy try to get higher rewards in a society, then find out which strategy will works out best in\\nlong term.\\n',\n",
       "  'area': ' Artificial Intelligence\\n',\n",
       "  'technology': ' C#, SQLite'},\n",
       " {'title': ' Design and evaluation of a testing unit to measure sealing pressure of fasteners joints\\nproject\\n',\n",
       "  'students': ' Pádraig Wall\\nEmail: padraig.wall5@mail.dcu.ie\\n',\n",
       "  'programme': ' Mechanical and Manufacturing Engineering\\n',\n",
       "  'supervisor_and_description': ' Dermot.Brabazon@dcu.ie\\nThis project was to design and oversee the manufacturing of a pressure vessel which was used to test Penn\\nEngineering insert products. The vessel design was also constructed in such a way that different parts can be\\ntested using it in the future by replacing one piece of the unit. The pressure system is nitrogen-based, and can\\nbe tested up to a ceiling pressure of 160 bar.\\n',\n",
       "  'area': ' Device Design, Fluid Mechanics, Mechanical Design and Manufacture\\n',\n",
       "  'technology': ' Excel/VB, Solidworks'},\n",
       " {'title': ' Predictive Analytics Toolkit\\n',\n",
       "  'students': ' Sean Quinn\\nEmail: sean.quinn34@mail.dcu.ie\\n',\n",
       "  'programme': ' Computer Applications\\n',\n",
       "  'supervisor_and_description': ' Mark.Roantree@dcu.ie\\nThis application allows the user to upload csv format datasets and then configure and run several different types\\nof predictive algorithms simultaneously on the data through a browser-based graphical user interface. This\\nallows contrasting of the performance of the different algorithms and various configurations of their run\\nparameters for any given dataset, principle component analysis and investigation of the nature of the data. The\\napplication features the K-Nearest Neighbours, Decision Tree, Naïve Bayes and Rocchio classification\\nalgorithms.\\n',\n",
       "  'area': ' Data Analytics, Data Mining, Statistical Analysis, Web Application\\n',\n",
       "  'technology': ' HTML5, Java, JavaScript, JQuery, REST, SpringMVC'}]"
      ]
     },
     "execution_count": 15,
     "metadata": {},
     "output_type": "execute_result"
    }
   ],
   "source": [
    "projects[0:3]"
   ]
  },
  {
   "cell_type": "code",
   "execution_count": 16,
   "metadata": {},
   "outputs": [],
   "source": [
    "projects_final = projects_parser.canonicalize_projects(projects, name_sep='Name:', email_sep='Email:')"
   ]
  },
  {
   "cell_type": "code",
   "execution_count": 17,
   "metadata": {},
   "outputs": [
    {
     "data": {
      "text/plain": [
       "[{'title': 'Virtual society',\n",
       "  'students': [{'name': 'Jingyun Xu', 'email': 'jingyun.xu5@mail.dcu.ie'}],\n",
       "  'programme': 'Computer Applications',\n",
       "  'area': 'Artificial Intelligence',\n",
       "  'technology': 'C#, SQLite',\n",
       "  'supervisor': 'Alistair.Sutherland@dcu.ie',\n",
       "  'description': 'Virtual society is an application that could simulate virtual humans to solve tasks with different behaviours in a virtual environment. Different humans in groups with different personalities will make different decisions in a same event. Some are cooperative and others are aggressive. This project is about to simulate humans which have different strategy try to get higher rewards in a society, then find out which strategy will works out best in long term.'},\n",
       " {'title': 'Design and evaluation of a testing unit to measure sealing pressure of fasteners joints project',\n",
       "  'students': [{'name': 'Pádraig Wall', 'email': 'padraig.wall5@mail.dcu.ie'}],\n",
       "  'programme': 'Mechanical and Manufacturing Engineering',\n",
       "  'area': 'Device Design, Fluid Mechanics, Mechanical Design and Manufacture',\n",
       "  'technology': 'Excel/VB, Solidworks',\n",
       "  'supervisor': 'Dermot.Brabazon@dcu.ie',\n",
       "  'description': 'This project was to design and oversee the manufacturing of a pressure vessel which was used to test Penn Engineering insert products. The vessel design was also constructed in such a way that different parts can be tested using it in the future by replacing one piece of the unit. The pressure system is nitrogen-based, and can be tested up to a ceiling pressure of 160 bar.'},\n",
       " {'title': 'Predictive Analytics Toolkit',\n",
       "  'students': [{'name': 'Sean Quinn', 'email': 'sean.quinn34@mail.dcu.ie'}],\n",
       "  'programme': 'Computer Applications',\n",
       "  'area': 'Data Analytics, Data Mining, Statistical Analysis, Web Application',\n",
       "  'technology': 'HTML5, Java, JavaScript, JQuery, REST, SpringMVC',\n",
       "  'supervisor': 'Mark.Roantree@dcu.ie',\n",
       "  'description': 'This application allows the user to upload csv format datasets and then configure and run several different types of predictive algorithms simultaneously on the data through a browser-based graphical user interface. This allows contrasting of the performance of the different algorithms and various configurations of their run parameters for any given dataset, principle component analysis and investigation of the nature of the data. The application features the K-Nearest Neighbours, Decision Tree, Naïve Bayes and Rocchio classification algorithms.'}]"
      ]
     },
     "execution_count": 17,
     "metadata": {},
     "output_type": "execute_result"
    }
   ],
   "source": [
    "projects_final[0:3]"
   ]
  },
  {
   "cell_type": "code",
   "execution_count": 18,
   "metadata": {},
   "outputs": [
    {
     "data": {
      "text/plain": [
       "243"
      ]
     },
     "execution_count": 18,
     "metadata": {},
     "output_type": "execute_result"
    }
   ],
   "source": [
    "len(projects_final)"
   ]
  },
  {
   "cell_type": "code",
   "execution_count": 19,
   "metadata": {},
   "outputs": [],
   "source": [
    "projects_parser.write_json('2017', projects_final)"
   ]
  }
 ],
 "metadata": {
  "kernelspec": {
   "display_name": "Python 3",
   "language": "python",
   "name": "python3"
  },
  "language_info": {
   "codemirror_mode": {
    "name": "ipython",
    "version": 3
   },
   "file_extension": ".py",
   "mimetype": "text/x-python",
   "name": "python",
   "nbconvert_exporter": "python",
   "pygments_lexer": "ipython3",
   "version": "3.8.2"
  }
 },
 "nbformat": 4,
 "nbformat_minor": 4
}
