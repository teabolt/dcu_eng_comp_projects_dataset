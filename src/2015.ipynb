{
 "cells": [
  {
   "cell_type": "code",
   "execution_count": 1,
   "metadata": {},
   "outputs": [],
   "source": [
    "%load_ext autoreload\n",
    "%autoreload 2"
   ]
  },
  {
   "cell_type": "code",
   "execution_count": 2,
   "metadata": {},
   "outputs": [],
   "source": [
    "import re\n",
    "\n",
    "import projects_parser"
   ]
  },
  {
   "cell_type": "code",
   "execution_count": 3,
   "metadata": {},
   "outputs": [],
   "source": [
    "BOOKLET_FILE = \"../booklets_text/2015.txt\""
   ]
  },
  {
   "cell_type": "code",
   "execution_count": 4,
   "metadata": {},
   "outputs": [],
   "source": [
    "with open(BOOKLET_FILE, encoding=\"utf-8\") as f:\n",
    "    raw_lines = f.readlines()"
   ]
  },
  {
   "cell_type": "code",
   "execution_count": 5,
   "metadata": {},
   "outputs": [
    {
     "name": "stdout",
     "output_type": "stream",
     "text": [
      "['1\\n', 'Project Title: Beet Washer Automation\\n', 'Name: Jason Cross\\n', 'Email: jason.cross3@mail.dcu.ie\\n', 'Programme: ME\\n', 'Supervisor: Harold Esmonde\\n', 'Beet Washers are used in the production of Biogas. Beet is left to rot and ferment to create gas and in turn run a\\n', 'generator to create electricity. All beet washers are hydraulically powered with manual controls. Engines are\\n', 'currently used to run the machines and emissions are high. The aim of this project is to create an emission free\\n', 'machine which is fully automated. This involves the use of a 90kw 3 phase motor and IFM automation system.\\n', 'The automation system uses IFM PLC, speed sensors, oil pressure sensors and 7” screen.\\n', 'Project Area: Automation\\n', 'Project Technology: PLC\\n', '2\\n', 'Project Title: CoolWall\\n', 'Name: Stephan McLean\\n', 'Email: stephan.mclean2@mail.dcu.ie\\n', 'Programme: Computer Applications\\n', 'Supervisor: Renaat Verbruggen\\n', 'CoolWall is a web and mobile application which allows users to collaborate on an online “Wall” similar to how\\n']\n"
     ]
    }
   ],
   "source": [
    "print(raw_lines[0:20])"
   ]
  },
  {
   "cell_type": "code",
   "execution_count": 6,
   "metadata": {},
   "outputs": [],
   "source": [
    "# get rid of project numbering\n",
    "filter_pattern = re.compile(r'^\\d+$', re.M)\n",
    "lines_filtered = list(filter(lambda line: not filter_pattern.match(line), raw_lines))"
   ]
  },
  {
   "cell_type": "code",
   "execution_count": 7,
   "metadata": {},
   "outputs": [
    {
     "name": "stdout",
     "output_type": "stream",
     "text": [
      "['Project Title: Beet Washer Automation\\n', 'Name: Jason Cross\\n', 'Email: jason.cross3@mail.dcu.ie\\n', 'Programme: ME\\n', 'Supervisor: Harold Esmonde\\n', 'Beet Washers are used in the production of Biogas. Beet is left to rot and ferment to create gas and in turn run a\\n', 'generator to create electricity. All beet washers are hydraulically powered with manual controls. Engines are\\n', 'currently used to run the machines and emissions are high. The aim of this project is to create an emission free\\n', 'machine which is fully automated. This involves the use of a 90kw 3 phase motor and IFM automation system.\\n', 'The automation system uses IFM PLC, speed sensors, oil pressure sensors and 7” screen.\\n', 'Project Area: Automation\\n', 'Project Technology: PLC\\n', 'Project Title: CoolWall\\n', 'Name: Stephan McLean\\n', 'Email: stephan.mclean2@mail.dcu.ie\\n', 'Programme: Computer Applications\\n', 'Supervisor: Renaat Verbruggen\\n', 'CoolWall is a web and mobile application which allows users to collaborate on an online “Wall” similar to how\\n', 'they would on a physical white board. The application allows users to create their own Walls which they can\\n', 'populate with content and share with other users. CoolWall is available on Chrome, Safari and also on Android\\n', 'and iOS as a native application.\\n', 'Project Area: Web_Application\\n', 'Project Technology: JavaScript\\n', 'Project Title: Image Deblurring\\n', 'Name: Jahangeer Iqbal\\n', 'Email: jahangeer.iqbal3@mail.dcu.ie\\n', 'Programme: Computer Applications\\n', 'Supervisor: Dr. Alistair Sutherland.\\n', 'Blurring is one of the most frequent problems while taking photos under constraints like low lighting. The most\\n', 'common sources of image-blur are motion, defocus and aspects of the camera, such as pixel size and\\n']\n"
     ]
    }
   ],
   "source": [
    "print(lines_filtered[0:30])"
   ]
  },
  {
   "cell_type": "code",
   "execution_count": 8,
   "metadata": {},
   "outputs": [],
   "source": [
    "# Transform certain characters\n",
    "\n",
    "lines = [projects_parser.normalize_characters(line) for line in lines_filtered]"
   ]
  },
  {
   "cell_type": "code",
   "execution_count": 9,
   "metadata": {},
   "outputs": [
    {
     "name": "stdout",
     "output_type": "stream",
     "text": [
      "['Project Title: Beet Washer Automation\\n', 'Name: Jason Cross\\n', 'Email: jason.cross3@mail.dcu.ie\\n', 'Programme: ME\\n', 'Supervisor: Harold Esmonde\\n', 'Beet Washers are used in the production of Biogas. Beet is left to rot and ferment to create gas and in turn run a\\n', 'generator to create electricity. All beet washers are hydraulically powered with manual controls. Engines are\\n', 'currently used to run the machines and emissions are high. The aim of this project is to create an emission free\\n', 'machine which is fully automated. This involves the use of a 90kw 3 phase motor and IFM automation system.\\n', \"The automation system uses IFM PLC, speed sensors, oil pressure sensors and 7' screen.\\n\", 'Project Area: Automation\\n', 'Project Technology: PLC\\n', 'Project Title: CoolWall\\n', 'Name: Stephan McLean\\n', 'Email: stephan.mclean2@mail.dcu.ie\\n', 'Programme: Computer Applications\\n', 'Supervisor: Renaat Verbruggen\\n', \"CoolWall is a web and mobile application which allows users to collaborate on an online 'Wall' similar to how\\n\", 'they would on a physical white board. The application allows users to create their own Walls which they can\\n', 'populate with content and share with other users. CoolWall is available on Chrome, Safari and also on Android\\n', 'and iOS as a native application.\\n', 'Project Area: Web_Application\\n', 'Project Technology: JavaScript\\n', 'Project Title: Image Deblurring\\n', 'Name: Jahangeer Iqbal\\n', 'Email: jahangeer.iqbal3@mail.dcu.ie\\n', 'Programme: Computer Applications\\n', 'Supervisor: Dr. Alistair Sutherland.\\n', 'Blurring is one of the most frequent problems while taking photos under constraints like low lighting. The most\\n', 'common sources of image-blur are motion, defocus and aspects of the camera, such as pixel size and\\n']\n",
      "1909\n"
     ]
    }
   ],
   "source": [
    "print(lines[0:30])\n",
    "print(len(lines))"
   ]
  },
  {
   "cell_type": "code",
   "execution_count": 10,
   "metadata": {},
   "outputs": [],
   "source": [
    "# Separate lines into list of projects\n",
    "\n",
    "projects_strings = projects_parser.lines_to_projects(lines)"
   ]
  },
  {
   "cell_type": "code",
   "execution_count": 11,
   "metadata": {},
   "outputs": [
    {
     "name": "stdout",
     "output_type": "stream",
     "text": [
      "[\"Project Title: Beet Washer Automation\\nName: Jason Cross\\nEmail: jason.cross3@mail.dcu.ie\\nProgramme: ME\\nSupervisor: Harold Esmonde\\nBeet Washers are used in the production of Biogas. Beet is left to rot and ferment to create gas and in turn run a\\ngenerator to create electricity. All beet washers are hydraulically powered with manual controls. Engines are\\ncurrently used to run the machines and emissions are high. The aim of this project is to create an emission free\\nmachine which is fully automated. This involves the use of a 90kw 3 phase motor and IFM automation system.\\nThe automation system uses IFM PLC, speed sensors, oil pressure sensors and 7' screen.\\nProject Area: Automation\\nProject Technology: PLC\\n\", \"Project Title: CoolWall\\nName: Stephan McLean\\nEmail: stephan.mclean2@mail.dcu.ie\\nProgramme: Computer Applications\\nSupervisor: Renaat Verbruggen\\nCoolWall is a web and mobile application which allows users to collaborate on an online 'Wall' similar to how\\nthey would on a physical white board. The application allows users to create their own Walls which they can\\npopulate with content and share with other users. CoolWall is available on Chrome, Safari and also on Android\\nand iOS as a native application.\\nProject Area: Web_Application\\nProject Technology: JavaScript\\n\", 'Project Title: Image Deblurring\\nName: Jahangeer Iqbal\\nEmail: jahangeer.iqbal3@mail.dcu.ie\\nProgramme: Computer Applications\\nSupervisor: Dr. Alistair Sutherland.\\nBlurring is one of the most frequent problems while taking photos under constraints like low lighting. The most\\ncommon sources of image-blur are motion, defocus and aspects of the camera, such as pixel size and\\nsensor-resolution. This projects delves into what is involved in deblurring effectively. This project researches into\\ntechniques that are useful to deblur an image on a mobile platform. Alongside research, an Android application\\nhas been developed to showcase how a user would utilise such functionality.\\nProject Area: Image_Video_Processing\\nProject Technology: XML,OpenCV,Java,Eclipse,C/C++\\n']\n"
     ]
    }
   ],
   "source": [
    "print(projects_strings[0:3])"
   ]
  },
  {
   "cell_type": "code",
   "execution_count": 12,
   "metadata": {},
   "outputs": [
    {
     "data": {
      "text/plain": [
       "161"
      ]
     },
     "execution_count": 12,
     "metadata": {},
     "output_type": "execute_result"
    }
   ],
   "source": [
    "len(projects_strings)"
   ]
  },
  {
   "cell_type": "code",
   "execution_count": 13,
   "metadata": {},
   "outputs": [],
   "source": [
    "regex_schema = {\n",
    "    'title': r'Project Title:(.*?)Name',\n",
    "    'students': r'Name:(.*?)Programme',\n",
    "    'programme': r'Programme:(.*)Supervisor',\n",
    "    'supervisor_and_description': r'Supervisor:(.*)Project Area',\n",
    "    'area': r'Project Area:(.*?)(?:Project Technology|$)',\n",
    "    'technology': r'Project Technology:(.*?)$',\n",
    "}"
   ]
  },
  {
   "cell_type": "code",
   "execution_count": 14,
   "metadata": {},
   "outputs": [],
   "source": [
    "projects = projects_parser.parse_projects(projects_strings, regex_schema)"
   ]
  },
  {
   "cell_type": "code",
   "execution_count": 15,
   "metadata": {},
   "outputs": [
    {
     "data": {
      "text/plain": [
       "[{'title': ' Beet Washer Automation\\n',\n",
       "  'students': ' Jason Cross\\nEmail: jason.cross3@mail.dcu.ie\\n',\n",
       "  'programme': ' ME\\n',\n",
       "  'supervisor_and_description': \" Harold Esmonde\\nBeet Washers are used in the production of Biogas. Beet is left to rot and ferment to create gas and in turn run a\\ngenerator to create electricity. All beet washers are hydraulically powered with manual controls. Engines are\\ncurrently used to run the machines and emissions are high. The aim of this project is to create an emission free\\nmachine which is fully automated. This involves the use of a 90kw 3 phase motor and IFM automation system.\\nThe automation system uses IFM PLC, speed sensors, oil pressure sensors and 7' screen.\\n\",\n",
       "  'area': ' Automation\\n',\n",
       "  'technology': ' PLC'},\n",
       " {'title': ' CoolWall\\n',\n",
       "  'students': ' Stephan McLean\\nEmail: stephan.mclean2@mail.dcu.ie\\n',\n",
       "  'programme': ' Computer Applications\\n',\n",
       "  'supervisor_and_description': \" Renaat Verbruggen\\nCoolWall is a web and mobile application which allows users to collaborate on an online 'Wall' similar to how\\nthey would on a physical white board. The application allows users to create their own Walls which they can\\npopulate with content and share with other users. CoolWall is available on Chrome, Safari and also on Android\\nand iOS as a native application.\\n\",\n",
       "  'area': ' Web_Application\\n',\n",
       "  'technology': ' JavaScript'},\n",
       " {'title': ' Image Deblurring\\n',\n",
       "  'students': ' Jahangeer Iqbal\\nEmail: jahangeer.iqbal3@mail.dcu.ie\\n',\n",
       "  'programme': ' Computer Applications\\n',\n",
       "  'supervisor_and_description': ' Dr. Alistair Sutherland.\\nBlurring is one of the most frequent problems while taking photos under constraints like low lighting. The most\\ncommon sources of image-blur are motion, defocus and aspects of the camera, such as pixel size and\\nsensor-resolution. This projects delves into what is involved in deblurring effectively. This project researches into\\ntechniques that are useful to deblur an image on a mobile platform. Alongside research, an Android application\\nhas been developed to showcase how a user would utilise such functionality.\\n',\n",
       "  'area': ' Image_Video_Processing\\n',\n",
       "  'technology': ' XML,OpenCV,Java,Eclipse,C/C++'}]"
      ]
     },
     "execution_count": 15,
     "metadata": {},
     "output_type": "execute_result"
    }
   ],
   "source": [
    "projects[0:3]"
   ]
  },
  {
   "cell_type": "code",
   "execution_count": 16,
   "metadata": {},
   "outputs": [],
   "source": [
    "projects_final = projects_parser.canonicalize_projects(projects, name_sep=\"Name:\", email_sep=\"Email:\")"
   ]
  },
  {
   "cell_type": "code",
   "execution_count": 17,
   "metadata": {},
   "outputs": [
    {
     "data": {
      "text/plain": [
       "[{'title': 'Beet Washer Automation',\n",
       "  'students': [{'name': 'Jason Cross', 'email': 'jason.cross3@mail.dcu.ie'}],\n",
       "  'programme': 'ME',\n",
       "  'area': 'Automation',\n",
       "  'technology': 'PLC',\n",
       "  'supervisor': 'Harold Esmonde',\n",
       "  'description': \"Beet Washers are used in the production of Biogas. Beet is left to rot and ferment to create gas and in turn run a generator to create electricity. All beet washers are hydraulically powered with manual controls. Engines are currently used to run the machines and emissions are high. The aim of this project is to create an emission free machine which is fully automated. This involves the use of a 90kw 3 phase motor and IFM automation system. The automation system uses IFM PLC, speed sensors, oil pressure sensors and 7' screen.\"},\n",
       " {'title': 'CoolWall',\n",
       "  'students': [{'name': 'Stephan McLean',\n",
       "    'email': 'stephan.mclean2@mail.dcu.ie'}],\n",
       "  'programme': 'Computer Applications',\n",
       "  'area': 'Web_Application',\n",
       "  'technology': 'JavaScript',\n",
       "  'supervisor': 'Renaat Verbruggen',\n",
       "  'description': \"CoolWall is a web and mobile application which allows users to collaborate on an online 'Wall' similar to how they would on a physical white board. The application allows users to create their own Walls which they can populate with content and share with other users. CoolWall is available on Chrome, Safari and also on Android and iOS as a native application.\"},\n",
       " {'title': 'Image Deblurring',\n",
       "  'students': [{'name': 'Jahangeer Iqbal',\n",
       "    'email': 'jahangeer.iqbal3@mail.dcu.ie'}],\n",
       "  'programme': 'Computer Applications',\n",
       "  'area': 'Image_Video_Processing',\n",
       "  'technology': 'XML,OpenCV,Java,Eclipse,C/C++',\n",
       "  'supervisor': 'Dr. Alistair Sutherland.',\n",
       "  'description': 'Blurring is one of the most frequent problems while taking photos under constraints like low lighting. The most common sources of image-blur are motion, defocus and aspects of the camera, such as pixel size and sensor-resolution. This projects delves into what is involved in deblurring effectively. This project researches into techniques that are useful to deblur an image on a mobile platform. Alongside research, an Android application has been developed to showcase how a user would utilise such functionality.'}]"
      ]
     },
     "execution_count": 17,
     "metadata": {},
     "output_type": "execute_result"
    }
   ],
   "source": [
    "projects_final[0:3]"
   ]
  },
  {
   "cell_type": "code",
   "execution_count": 18,
   "metadata": {},
   "outputs": [
    {
     "data": {
      "text/plain": [
       "161"
      ]
     },
     "execution_count": 18,
     "metadata": {},
     "output_type": "execute_result"
    }
   ],
   "source": [
    "len(projects_final)"
   ]
  },
  {
   "cell_type": "code",
   "execution_count": 19,
   "metadata": {},
   "outputs": [],
   "source": [
    "# need extra processing to remove strange underscores and commas without spaces from the underlying PDF\n",
    "def underscores_to_spaces(project, fields):\n",
    "    project_copy = { **project }\n",
    "    for field in fields:\n",
    "        project_copy[field] = project_copy[field].replace('_', ' ')\n",
    "    return project_copy\n",
    "\n",
    "def space_commas(project, fields):\n",
    "    project_copy = { **project }\n",
    "    for field in fields:\n",
    "        # Regex that finds commas with no whitespace after them\n",
    "        project_copy[field] = re.sub(r'(?<=,)(?=[^\\s])', r' ', project_copy[field])\n",
    "    return project_copy"
   ]
  },
  {
   "cell_type": "code",
   "execution_count": 20,
   "metadata": {},
   "outputs": [],
   "source": [
    "projects_no_underscores = projects_parser.apply_transformation(projects_final, underscores_to_spaces, ['area'])\n",
    "projects_spaced = projects_parser.apply_transformation(projects_no_underscores, space_commas, ['area', 'technology'])"
   ]
  },
  {
   "cell_type": "code",
   "execution_count": 21,
   "metadata": {},
   "outputs": [
    {
     "name": "stdout",
     "output_type": "stream",
     "text": [
      "[{'title': 'Beet Washer Automation', 'students': [{'name': 'Jason Cross', 'email': 'jason.cross3@mail.dcu.ie'}], 'programme': 'ME', 'area': 'Automation', 'technology': 'PLC', 'supervisor': 'Harold Esmonde', 'description': \"Beet Washers are used in the production of Biogas. Beet is left to rot and ferment to create gas and in turn run a generator to create electricity. All beet washers are hydraulically powered with manual controls. Engines are currently used to run the machines and emissions are high. The aim of this project is to create an emission free machine which is fully automated. This involves the use of a 90kw 3 phase motor and IFM automation system. The automation system uses IFM PLC, speed sensors, oil pressure sensors and 7' screen.\"}, {'title': 'CoolWall', 'students': [{'name': 'Stephan McLean', 'email': 'stephan.mclean2@mail.dcu.ie'}], 'programme': 'Computer Applications', 'area': 'Web Application', 'technology': 'JavaScript', 'supervisor': 'Renaat Verbruggen', 'description': \"CoolWall is a web and mobile application which allows users to collaborate on an online 'Wall' similar to how they would on a physical white board. The application allows users to create their own Walls which they can populate with content and share with other users. CoolWall is available on Chrome, Safari and also on Android and iOS as a native application.\"}, {'title': 'Image Deblurring', 'students': [{'name': 'Jahangeer Iqbal', 'email': 'jahangeer.iqbal3@mail.dcu.ie'}], 'programme': 'Computer Applications', 'area': 'Image Video Processing', 'technology': 'XML, OpenCV, Java, Eclipse, C/C++', 'supervisor': 'Dr. Alistair Sutherland.', 'description': 'Blurring is one of the most frequent problems while taking photos under constraints like low lighting. The most common sources of image-blur are motion, defocus and aspects of the camera, such as pixel size and sensor-resolution. This projects delves into what is involved in deblurring effectively. This project researches into techniques that are useful to deblur an image on a mobile platform. Alongside research, an Android application has been developed to showcase how a user would utilise such functionality.'}]\n",
      "161\n"
     ]
    }
   ],
   "source": [
    "print(projects_spaced[:3])\n",
    "print(len(projects_spaced))"
   ]
  },
  {
   "cell_type": "code",
   "execution_count": 22,
   "metadata": {},
   "outputs": [],
   "source": [
    "projects_parser.write_json(\"2015\", projects_spaced)"
   ]
  },
  {
   "cell_type": "code",
   "execution_count": null,
   "metadata": {},
   "outputs": [],
   "source": []
  }
 ],
 "metadata": {
  "kernelspec": {
   "display_name": "Python 3",
   "language": "python",
   "name": "python3"
  },
  "language_info": {
   "codemirror_mode": {
    "name": "ipython",
    "version": 3
   },
   "file_extension": ".py",
   "mimetype": "text/x-python",
   "name": "python",
   "nbconvert_exporter": "python",
   "pygments_lexer": "ipython3",
   "version": "3.8.2"
  }
 },
 "nbformat": 4,
 "nbformat_minor": 4
}
