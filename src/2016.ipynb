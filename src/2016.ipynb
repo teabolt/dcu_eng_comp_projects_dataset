{
 "cells": [
  {
   "cell_type": "code",
   "execution_count": 2,
   "metadata": {},
   "outputs": [
    {
     "name": "stdout",
     "output_type": "stream",
     "text": [
      "The autoreload extension is already loaded. To reload it, use:\n",
      "  %reload_ext autoreload\n"
     ]
    }
   ],
   "source": [
    "%load_ext autoreload\n",
    "%autoreload 2"
   ]
  },
  {
   "cell_type": "code",
   "execution_count": 6,
   "metadata": {},
   "outputs": [],
   "source": [
    "import re\n",
    "\n",
    "import projects_parser"
   ]
  },
  {
   "cell_type": "code",
   "execution_count": 7,
   "metadata": {},
   "outputs": [],
   "source": [
    "BOOK_FILE = \"../booklets_text/2016.txt\""
   ]
  },
  {
   "cell_type": "code",
   "execution_count": 8,
   "metadata": {},
   "outputs": [],
   "source": [
    "with open(BOOK_FILE, encoding=\"utf-8\") as f:\n",
    "    lines = f.readlines()"
   ]
  },
  {
   "cell_type": "code",
   "execution_count": 10,
   "metadata": {},
   "outputs": [
    {
     "name": "stdout",
     "output_type": "stream",
     "text": [
      "['1\\n', 'Project Title: Crowd Control\\n', 'Name: Harry Quigley\\n', 'Email: harry.quigley2@mail.dcu.ie\\n', 'Programme: Computer Applications\\n', 'Supervisor: Suzanne Little\\n', 'Crowd Control is a people-counting and attendance management system. The system consists of a raspberry\\n', 'pi, camera module, cloud backend and a web application. On the pi, using computer vision algorithms, people\\n', 'entering/leaving the building are detected. The amount of people that have entered/left and the time stamp is\\n', 'then sent to the server. The Crowd Control web application uses this data to display how many people are in a\\n', 'venue in real time and represents trends graphically over time.\\n', 'Project Area: Computer Vision, Image Video Processing, RaspberryPi, Web Application, Databases\\n', 'Project Technology: HTML5, Java, JavaScript, Python, REST, SpringMVC, SQL\\n', '2\\n', 'Project Title: Assassin\\n', 'Name: Sean Kelly\\n', 'Email: sean.kelly224@mail.dcu.ie\\n', 'Programme: Computer Applications\\n', 'Supervisor: Geoff Hamilton\\n', 'Assassin is an Android multiplayer game that is played in the real world (preferably a busy pedestrian area) that\\n']\n"
     ]
    }
   ],
   "source": [
    "print(lines[0:20])"
   ]
  },
  {
   "cell_type": "code",
   "execution_count": 11,
   "metadata": {},
   "outputs": [],
   "source": [
    "# Get rid of project numbering\n",
    "filter_pattern = re.compile(r'^Project Number', re.M)\n",
    "lines_filtered = list(filter(lambda line: not filter_pattern.match(line), lines))"
   ]
  },
  {
   "cell_type": "code",
   "execution_count": 12,
   "metadata": {},
   "outputs": [
    {
     "name": "stdout",
     "output_type": "stream",
     "text": [
      "['1\\n', 'Project Title: Crowd Control\\n', 'Name: Harry Quigley\\n', 'Email: harry.quigley2@mail.dcu.ie\\n', 'Programme: Computer Applications\\n', 'Supervisor: Suzanne Little\\n', 'Crowd Control is a people-counting and attendance management system. The system consists of a raspberry\\n', 'pi, camera module, cloud backend and a web application. On the pi, using computer vision algorithms, people\\n', 'entering/leaving the building are detected. The amount of people that have entered/left and the time stamp is\\n', 'then sent to the server. The Crowd Control web application uses this data to display how many people are in a\\n', 'venue in real time and represents trends graphically over time.\\n', 'Project Area: Computer Vision, Image Video Processing, RaspberryPi, Web Application, Databases\\n', 'Project Technology: HTML5, Java, JavaScript, Python, REST, SpringMVC, SQL\\n', '2\\n', 'Project Title: Assassin\\n', 'Name: Sean Kelly\\n', 'Email: sean.kelly224@mail.dcu.ie\\n', 'Programme: Computer Applications\\n', 'Supervisor: Geoff Hamilton\\n', 'Assassin is an Android multiplayer game that is played in the real world (preferably a busy pedestrian area) that\\n', 'uses GPS to determine players’ locations. Players (hunters) must chase after other players (targets) to win the\\n', 'game. There are different combinations of hunters/targets depending on the game mode e.g. sometimes all\\n', 'players are both a target and a hunter. The aim of the game is to be sneaky/blend into the crowd so other\\n', 'players don’t see you from far away.\\n', 'Project Area: Android, Gaming, GPS GIS\\n', 'Project Technology: Java\\n', '3\\n', 'Project Title: Investigation of metal die warpage for high dimensional accuracy requirements\\n', 'in polymer moulding\\n', 'Name: Liam Halpin\\n']\n"
     ]
    }
   ],
   "source": [
    "print(lines_filtered[0:30])"
   ]
  },
  {
   "cell_type": "code",
   "execution_count": 13,
   "metadata": {},
   "outputs": [
    {
     "name": "stdout",
     "output_type": "stream",
     "text": [
      "[1, 14, 27, 42, 56]\n"
     ]
    }
   ],
   "source": [
    "# Separate lines into list of projects\n",
    "\n",
    "project_title_indices = [i for i, line in enumerate(lines_filtered) if \"Project Title\" in line]\n",
    "print(project_title_indices[0:5])\n",
    "\n",
    "projects_strings = []\n",
    "i = 1\n",
    "while i < len(project_title_indices):\n",
    "    projects_strings.append(\"\".join(lines_filtered[project_title_indices[i-1]:project_title_indices[i]]))\n",
    "    i += 1\n",
    "projects_strings.append(\"\".join(lines_filtered[project_title_indices[-1]:]))"
   ]
  },
  {
   "cell_type": "code",
   "execution_count": 14,
   "metadata": {},
   "outputs": [
    {
     "name": "stdout",
     "output_type": "stream",
     "text": [
      "['Project Title: Crowd Control\\nName: Harry Quigley\\nEmail: harry.quigley2@mail.dcu.ie\\nProgramme: Computer Applications\\nSupervisor: Suzanne Little\\nCrowd Control is a people-counting and attendance management system. The system consists of a raspberry\\npi, camera module, cloud backend and a web application. On the pi, using computer vision algorithms, people\\nentering/leaving the building are detected. The amount of people that have entered/left and the time stamp is\\nthen sent to the server. The Crowd Control web application uses this data to display how many people are in a\\nvenue in real time and represents trends graphically over time.\\nProject Area: Computer Vision, Image Video Processing, RaspberryPi, Web Application, Databases\\nProject Technology: HTML5, Java, JavaScript, Python, REST, SpringMVC, SQL\\n2\\n', 'Project Title: Assassin\\nName: Sean Kelly\\nEmail: sean.kelly224@mail.dcu.ie\\nProgramme: Computer Applications\\nSupervisor: Geoff Hamilton\\nAssassin is an Android multiplayer game that is played in the real world (preferably a busy pedestrian area) that\\nuses GPS to determine players’ locations. Players (hunters) must chase after other players (targets) to win the\\ngame. There are different combinations of hunters/targets depending on the game mode e.g. sometimes all\\nplayers are both a target and a hunter. The aim of the game is to be sneaky/blend into the crowd so other\\nplayers don’t see you from far away.\\nProject Area: Android, Gaming, GPS GIS\\nProject Technology: Java\\n3\\n', 'Project Title: Investigation of metal die warpage for high dimensional accuracy requirements\\nin polymer moulding\\nName: Liam Halpin\\nEmail: liam.halpin7@mail.dcu.ie\\nProgramme: Biomedical Engineering\\nSupervisor: Dermot Brabazon\\nIn industry it has been observed that some mould blocks can be warped due to internal stresses. This can cost\\na company an exorbitant amount of money with replacement or cost of production allowances. This study is to\\ninvestigate the effect of milling and other factors like composition and material properties on the mould block\\nand warpage.\\nProject Area: Advanced Material Engineering\\nProject Technology: Excel/VB\\n24 Faculty of Engineering and Computing\\nFinal Year Projects Expo 2016\\n4\\n']\n"
     ]
    }
   ],
   "source": [
    "print(projects_strings[0:3])"
   ]
  },
  {
   "cell_type": "code",
   "execution_count": 15,
   "metadata": {},
   "outputs": [
    {
     "data": {
      "text/plain": [
       "206"
      ]
     },
     "execution_count": 15,
     "metadata": {},
     "output_type": "execute_result"
    }
   ],
   "source": [
    "len(projects_strings)"
   ]
  },
  {
   "cell_type": "code",
   "execution_count": 16,
   "metadata": {},
   "outputs": [],
   "source": [
    "regex_schema = {\n",
    "    'title': r'Project Title:(.*?)Name',\n",
    "    'students': r'Name:(.*?)Programme',\n",
    "    'programme': r'Programme:(.*)Supervisor',\n",
    "    'supervisor_and_description': r'Supervisor:(.*)Project Area',\n",
    "    'area': r'Project Area:(.*?)(?:Project Technology|$)',\n",
    "    'technology': r'Project Technology:(.*?)$',\n",
    "}"
   ]
  },
  {
   "cell_type": "code",
   "execution_count": 17,
   "metadata": {},
   "outputs": [],
   "source": [
    "projects = projects_parser.parse_projects(projects_strings, regex_schema)"
   ]
  },
  {
   "cell_type": "code",
   "execution_count": 18,
   "metadata": {},
   "outputs": [
    {
     "data": {
      "text/plain": [
       "[{'title': ' Crowd Control\\n',\n",
       "  'students': ' Harry Quigley\\nEmail: harry.quigley2@mail.dcu.ie\\n',\n",
       "  'programme': ' Computer Applications\\n',\n",
       "  'supervisor_and_description': ' Suzanne Little\\nCrowd Control is a people-counting and attendance management system. The system consists of a raspberry\\npi, camera module, cloud backend and a web application. On the pi, using computer vision algorithms, people\\nentering/leaving the building are detected. The amount of people that have entered/left and the time stamp is\\nthen sent to the server. The Crowd Control web application uses this data to display how many people are in a\\nvenue in real time and represents trends graphically over time.\\n',\n",
       "  'area': ' Computer Vision, Image Video Processing, RaspberryPi, Web Application, Databases\\n',\n",
       "  'technology': ' HTML5, Java, JavaScript, Python, REST, SpringMVC, SQL\\n2'},\n",
       " {'title': ' Assassin\\n',\n",
       "  'students': ' Sean Kelly\\nEmail: sean.kelly224@mail.dcu.ie\\n',\n",
       "  'programme': ' Computer Applications\\n',\n",
       "  'supervisor_and_description': ' Geoff Hamilton\\nAssassin is an Android multiplayer game that is played in the real world (preferably a busy pedestrian area) that\\nuses GPS to determine players’ locations. Players (hunters) must chase after other players (targets) to win the\\ngame. There are different combinations of hunters/targets depending on the game mode e.g. sometimes all\\nplayers are both a target and a hunter. The aim of the game is to be sneaky/blend into the crowd so other\\nplayers don’t see you from far away.\\n',\n",
       "  'area': ' Android, Gaming, GPS GIS\\n',\n",
       "  'technology': ' Java\\n3'},\n",
       " {'title': ' Investigation of metal die warpage for high dimensional accuracy requirements\\nin polymer moulding\\n',\n",
       "  'students': ' Liam Halpin\\nEmail: liam.halpin7@mail.dcu.ie\\n',\n",
       "  'programme': ' Biomedical Engineering\\n',\n",
       "  'supervisor_and_description': ' Dermot Brabazon\\nIn industry it has been observed that some mould blocks can be warped due to internal stresses. This can cost\\na company an exorbitant amount of money with replacement or cost of production allowances. This study is to\\ninvestigate the effect of milling and other factors like composition and material properties on the mould block\\nand warpage.\\n',\n",
       "  'area': ' Advanced Material Engineering\\n',\n",
       "  'technology': ' Excel/VB\\n24 Faculty of Engineering and Computing\\nFinal Year Projects Expo 2016\\n4'}]"
      ]
     },
     "execution_count": 18,
     "metadata": {},
     "output_type": "execute_result"
    }
   ],
   "source": [
    "projects[0:3]"
   ]
  },
  {
   "cell_type": "code",
   "execution_count": 19,
   "metadata": {},
   "outputs": [],
   "source": [
    "projects_final = projects_parser.canonicalize_projects(projects, name_sep=\"Name:\", email_sep=\"Email:\")"
   ]
  },
  {
   "cell_type": "code",
   "execution_count": 20,
   "metadata": {},
   "outputs": [
    {
     "data": {
      "text/plain": [
       "[{'title': 'Crowd Control',\n",
       "  'students': [{'name': 'Harry Quigley',\n",
       "    'email': 'harry.quigley2@mail.dcu.ie'}],\n",
       "  'programme': 'Computer Applications',\n",
       "  'area': 'Computer Vision, Image Video Processing, RaspberryPi, Web Application, Databases',\n",
       "  'technology': 'HTML5, Java, JavaScript, Python, REST, SpringMVC, SQL 2',\n",
       "  'supervisor': 'Suzanne Little',\n",
       "  'description': 'Crowd Control is a people-counting and attendance management system. The system consists of a raspberry pi, camera module, cloud backend and a web application. On the pi, using computer vision algorithms, people entering/leaving the building are detected. The amount of people that have entered/left and the time stamp is then sent to the server. The Crowd Control web application uses this data to display how many people are in a venue in real time and represents trends graphically over time.'},\n",
       " {'title': 'Assassin',\n",
       "  'students': [{'name': 'Sean Kelly', 'email': 'sean.kelly224@mail.dcu.ie'}],\n",
       "  'programme': 'Computer Applications',\n",
       "  'area': 'Android, Gaming, GPS GIS',\n",
       "  'technology': 'Java 3',\n",
       "  'supervisor': 'Geoff Hamilton',\n",
       "  'description': 'Assassin is an Android multiplayer game that is played in the real world (preferably a busy pedestrian area) that uses GPS to determine players’ locations. Players (hunters) must chase after other players (targets) to win the game. There are different combinations of hunters/targets depending on the game mode e.g. sometimes all players are both a target and a hunter. The aim of the game is to be sneaky/blend into the crowd so other players don’t see you from far away.'},\n",
       " {'title': 'Investigation of metal die warpage for high dimensional accuracy requirements in polymer moulding',\n",
       "  'students': [{'name': 'Liam Halpin', 'email': 'liam.halpin7@mail.dcu.ie'}],\n",
       "  'programme': 'Biomedical Engineering',\n",
       "  'area': 'Advanced Material Engineering',\n",
       "  'technology': 'Excel/VB 24 Faculty of Engineering and Computing Final Year Projects Expo 2016 4',\n",
       "  'supervisor': 'Dermot Brabazon',\n",
       "  'description': 'In industry it has been observed that some mould blocks can be warped due to internal stresses. This can cost a company an exorbitant amount of money with replacement or cost of production allowances. This study is to investigate the effect of milling and other factors like composition and material properties on the mould block and warpage.'}]"
      ]
     },
     "execution_count": 20,
     "metadata": {},
     "output_type": "execute_result"
    }
   ],
   "source": [
    "projects_final[0:3]"
   ]
  },
  {
   "cell_type": "code",
   "execution_count": 21,
   "metadata": {},
   "outputs": [
    {
     "data": {
      "text/plain": [
       "206"
      ]
     },
     "execution_count": 21,
     "metadata": {},
     "output_type": "execute_result"
    }
   ],
   "source": [
    "len(projects_final)"
   ]
  },
  {
   "cell_type": "code",
   "execution_count": 22,
   "metadata": {},
   "outputs": [],
   "source": [
    "projects_parser.write_json(\"2016\", projects_final)"
   ]
  },
  {
   "cell_type": "code",
   "execution_count": null,
   "metadata": {},
   "outputs": [],
   "source": []
  }
 ],
 "metadata": {
  "kernelspec": {
   "display_name": "Python 3",
   "language": "python",
   "name": "python3"
  },
  "language_info": {
   "codemirror_mode": {
    "name": "ipython",
    "version": 3
   },
   "file_extension": ".py",
   "mimetype": "text/x-python",
   "name": "python",
   "nbconvert_exporter": "python",
   "pygments_lexer": "ipython3",
   "version": "3.7.4"
  }
 },
 "nbformat": 4,
 "nbformat_minor": 4
}
